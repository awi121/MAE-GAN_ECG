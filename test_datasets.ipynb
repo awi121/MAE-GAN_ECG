{
 "cells": [
  {
   "cell_type": "code",
   "execution_count": 1,
   "id": "7c80a7a6",
   "metadata": {},
   "outputs": [],
   "source": [
    "import os\n",
    "import sys\n",
    "from collections import Counter\n",
    "from typing import List, Tuple, Type\n",
    "from glob import glob\n",
    "import pandas as pd\n",
    "from scipy import io\n",
    "import wfdb\n",
    "import numpy as np\n",
    "from tqdm import tqdm\n",
    "import pickle\n",
    "from iterstrat.ml_stratifiers import MultilabelStratifiedShuffleSplit"
   ]
  },
  {
   "cell_type": "code",
   "execution_count": 2,
   "id": "8f03911c",
   "metadata": {},
   "outputs": [],
   "source": [
    "def process_label(df: pd.DataFrame) -> np.ndarray:\n",
    "    labels = np.zeros([df.shape[0], 9])\n",
    "\n",
    "    labels_first = df.First_label.values\n",
    "    labels_second = df.Second_label.values\n",
    "    labels_third = df.Third_label.values\n",
    "\n",
    "    # labels = [1 - 9] -> label_index = [0 - 8]\n",
    "    for i in range(df.shape[0]):\n",
    "        # Validate: normal labeled sample has no other labels.\n",
    "        if labels_first[i] == 1:\n",
    "            assert(np.isnan(labels_second[i]) \\\n",
    "                   and np.isnan(labels_third[i]))\n",
    "\n",
    "        labels[i, labels_first[i] - 1] = 1\n",
    "        if not np.isnan(labels_second[i]):\n",
    "            labels[i, int(labels_second[i]) - 1] = 1\n",
    "        if not np.isnan(labels_third[i]):\n",
    "            labels[i, int(labels_third[i]) - 1] = 1\n",
    "    return labels"
   ]
  },
  {
   "cell_type": "code",
   "execution_count": 3,
   "id": "8444d9eb",
   "metadata": {},
   "outputs": [],
   "source": [
    "load_dir = '/home/gridsan/ybo/advaug/data/cpsc2018/raw'\n",
    "cpsc_reference = \"TrainingSet3/REFERENCE.csv\"\n",
    "reference_file = os.path.join(load_dir, cpsc_reference)\n",
    "filelist_df = pd.read_csv(reference_file)\n",
    "signals = filelist_df.Recording.values\n",
    "labels = process_label(filelist_df)"
   ]
  },
  {
   "cell_type": "code",
   "execution_count": 4,
   "id": "ecfa4802",
   "metadata": {
    "scrolled": true
   },
   "outputs": [],
   "source": [
    "msss_1 = MultilabelStratifiedShuffleSplit(\n",
    "    n_splits=1, test_size=0.2, random_state=1)\n",
    "\n",
    "for train_idx, test_idx in msss_1.split(signals, labels):\n",
    "    pass\n",
    "\n",
    "msss_2 = MultilabelStratifiedShuffleSplit(\n",
    "    n_splits=1, test_size=0.5, random_state=1)\n",
    "\n",
    "for valid_idx, test_idx in msss_2.split(signals[test_idx], labels[test_idx]):\n",
    "    pass\n",
    "\n",
    "f_train, f_valid, f_test =\\\n",
    "    signals[train_idx], signals[valid_idx], signals[test_idx]\n",
    "y_train, y_valid, y_test =\\\n",
    "    labels[train_idx], labels[valid_idx], labels[test_idx]"
   ]
  },
  {
   "cell_type": "code",
   "execution_count": 5,
   "id": "85f0390c",
   "metadata": {},
   "outputs": [],
   "source": [
    "def open_ecg_files(target_files):\n",
    "    signals = []\n",
    "    for target_file in tqdm(target_files):\n",
    "        target_path = os.path.join(load_dir, \"*\", target_file+\".mat\")\n",
    "        mat_file = glob(target_path)[0]\n",
    "        record = io.loadmat(mat_file) # [`Sex`, `Age`, `ECG`]\n",
    "        signals.append(record[\"ECG\"][0][0][2]) # num_lead = 12, sequence_length\n",
    "    return signals"
   ]
  },
  {
   "cell_type": "code",
   "execution_count": 6,
   "id": "f24e4dfa",
   "metadata": {},
   "outputs": [
    {
     "name": "stderr",
     "output_type": "stream",
     "text": [
      "100%|██████████| 5490/5490 [02:50<00:00, 32.18it/s]\n",
      "100%|██████████| 697/697 [00:15<00:00, 44.07it/s]\n",
      "100%|██████████| 690/690 [00:15<00:00, 43.42it/s]\n"
     ]
    }
   ],
   "source": [
    "X_train = open_ecg_files(f_train)\n",
    "X_val = open_ecg_files(f_valid)\n",
    "X_test = open_ecg_files(f_test)"
   ]
  },
  {
   "cell_type": "code",
   "execution_count": 9,
   "id": "c1884d4c",
   "metadata": {},
   "outputs": [],
   "source": [
    "def align_signal_length(signals):\n",
    "    aligned_signals = []\n",
    "    for signal in signals:\n",
    "        signal_length = signal.shape[-1]\n",
    "        if signal_length > 5000:\n",
    "            signal = signal[:,:5000]\n",
    "        elif signal_length < 5000:\n",
    "            pad_length = 5000 - signal_length\n",
    "            pad = np.zeros([pad_length, signal.shape[1]])\n",
    "            signal = np.concatenate([pad, signal], axis=0)\n",
    "        aligned_signals.append(signal)\n",
    "#     aligned_signals = np.stack(aligned_signals)\n",
    "    return aligned_signals"
   ]
  },
  {
   "cell_type": "code",
   "execution_count": 10,
   "id": "13670d4f",
   "metadata": {},
   "outputs": [],
   "source": [
    "X_train_aligned = align_signal_length(X_train)\n",
    "X_val_aligned = align_signal_length(X_val)\n",
    "X_test_aligned = align_signal_length(X_test)"
   ]
  },
  {
   "cell_type": "code",
   "execution_count": 27,
   "id": "7f5cf2f9",
   "metadata": {},
   "outputs": [],
   "source": [
    "seed = 2\n",
    "save_path = \"/home/gridsan/ybo/advaug/data/cpsc2018/seed{}\".format(seed)\n",
    "if not os.path.exists(save_path):\n",
    "    os.makedirs(save_path)"
   ]
  },
  {
   "cell_type": "code",
   "execution_count": 26,
   "id": "0d5b54e9",
   "metadata": {},
   "outputs": [
    {
     "ename": "FileNotFoundError",
     "evalue": "[Errno 2] No such file or directory: '/home/gridsan/ybo/advaug/data/cpsc2018/seed2/train.pkl'",
     "output_type": "error",
     "traceback": [
      "\u001b[0;31m---------------------------------------------------------------------------\u001b[0m",
      "\u001b[0;31mFileNotFoundError\u001b[0m                         Traceback (most recent call last)",
      "Input \u001b[0;32mIn [26]\u001b[0m, in \u001b[0;36m<cell line: 1>\u001b[0;34m()\u001b[0m\n\u001b[0;32m----> 1\u001b[0m \u001b[38;5;28;01mwith\u001b[39;00m \u001b[38;5;28;43mopen\u001b[39;49m\u001b[43m(\u001b[49m\u001b[38;5;124;43m\"\u001b[39;49m\u001b[38;5;124;43m/home/gridsan/ybo/advaug/data/cpsc2018/seed\u001b[39;49m\u001b[38;5;132;43;01m{}\u001b[39;49;00m\u001b[38;5;124;43m/train.pkl\u001b[39;49m\u001b[38;5;124;43m\"\u001b[39;49m\u001b[38;5;241;43m.\u001b[39;49m\u001b[43mformat\u001b[49m\u001b[43m(\u001b[49m\u001b[43mseed\u001b[49m\u001b[43m)\u001b[49m\u001b[43m,\u001b[49m\u001b[38;5;124;43m'\u001b[39;49m\u001b[38;5;124;43mwb\u001b[39;49m\u001b[38;5;124;43m'\u001b[39;49m\u001b[43m)\u001b[49m \u001b[38;5;28;01mas\u001b[39;00m f:\n\u001b[1;32m      2\u001b[0m     pickle\u001b[38;5;241m.\u001b[39mdump(X_train_aligned,f)\n",
      "\u001b[0;31mFileNotFoundError\u001b[0m: [Errno 2] No such file or directory: '/home/gridsan/ybo/advaug/data/cpsc2018/seed2/train.pkl'"
     ]
    }
   ],
   "source": [
    "with open(\"/home/gridsan/ybo/advaug/data/cpsc2018/train.pkl\",'wb') as f:\n",
    "    pickle.dump(X_train_aligned,f)\n",
    "with open(\"/home/gridsan/ybo/advaug/data/cpsc2018/val.pkl\",'wb') as f:\n",
    "    pickle.dump(X_val_aligned,f)\n",
    "with open(\"/home/gridsan/ybo/advaug/data/cpsc2018/test.pkl\",'wb') as f:\n",
    "    pickle.dump(X_test_aligned,f)"
   ]
  },
  {
   "cell_type": "code",
   "execution_count": 17,
   "id": "9edefcd4",
   "metadata": {},
   "outputs": [
    {
     "data": {
      "text/plain": [
       "[<matplotlib.lines.Line2D at 0x7fbc402460a0>]"
      ]
     },
     "execution_count": 17,
     "metadata": {},
     "output_type": "execute_result"
    },
    {
     "data": {
      "image/png": "[encoded data removed]",
      "text/plain": [
       "<Figure size 432x288 with 1 Axes>"
      ]
     },
     "metadata": {
      "needs_background": "light"
     },
     "output_type": "display_data"
    }
   ],
   "source": [
    "from matplotlib import pyplot as plt\n",
    "\n",
    "plt.plot(X_train_aligned[0][0])"
   ]
  },
  {
   "cell_type": "code",
   "execution_count": 7,
   "id": "a551de51",
   "metadata": {},
   "outputs": [],
   "source": [
    "# with open(\"/home/gridsan/ybo/CLOCS/data/chapman/contrastive_ss/leads_12/frames_phases_chapman.pkl\",'rb') as f:\n",
    "#             input_array = pickle.load(f)\n",
    "with open(\"/home/gridsan/ybo/CLOCS/data/chapman/contrastive_ss/leads_12/labels_phases_chapman.pkl\",'rb') as f:\n",
    "            labels_array = pickle.load(f)"
   ]
  },
  {
   "cell_type": "code",
   "execution_count": 10,
   "id": "e8847cbe",
   "metadata": {},
   "outputs": [
    {
     "data": {
      "text/plain": [
       "array([[0, 0, 0, ..., 0, 0, 0],\n",
       "       [2, 2, 2, ..., 2, 2, 2],\n",
       "       [1, 1, 1, ..., 1, 1, 1],\n",
       "       ...,\n",
       "       [1, 1, 1, ..., 1, 1, 1],\n",
       "       [3, 3, 3, ..., 3, 3, 3],\n",
       "       [1, 1, 1, ..., 1, 1, 1]])"
      ]
     },
     "execution_count": 10,
     "metadata": {},
     "output_type": "execute_result"
    }
   ],
   "source": [
    "x = input_array['ecg'][1]['train']['All Terms']\n",
    "y = labels_array['ecg'][1]['train']['All Terms']\n",
    "y"
   ]
  },
  {
   "cell_type": "code",
   "execution_count": 13,
   "id": "a3d17111",
   "metadata": {},
   "outputs": [],
   "source": [
    "from scipy.signal import resample\n",
    "from sklearn.preprocessing import LabelEncoder\n",
    "from tqdm import tqdm\n",
    "enc = LabelEncoder()"
   ]
  },
  {
   "cell_type": "code",
   "execution_count": 26,
   "id": "24a8ab1f",
   "metadata": {},
   "outputs": [
    {
     "name": "stderr",
     "output_type": "stream",
     "text": [
      "/state/partition1/slurm_tmp/19172587.0.0/ipykernel_60356/1335082236.py:10: FutureWarning: In a future version of pandas all arguments of concat except for the argument 'objs' will be keyword-only.\n",
      "  database_with_dates = pd.concat((database,dates),1)\n"
     ]
    },
    {
     "data": {
      "text/plain": [
       "Dates      Rhythm\n",
       "All Terms  SB        3889\n",
       "           GSVT      2307\n",
       "           AFIB      2225\n",
       "           SR        2225\n",
       "Name: Rhythm, dtype: int64"
      ]
     },
     "execution_count": 26,
     "metadata": {},
     "output_type": "execute_result"
    }
   ],
   "source": [
    "dataset = 'chapman'\n",
    "basepath = '/home/gridsan/ybo/CLOCS/data/chapman/'\n",
    "trial = 'contrastive_ms' #'contrastive_ss' # '' | 'contrastive_ms' | 'contrastive_ml' | 'contrastive_msml' | 'contrastive_ss'\n",
    "\n",
    "files = os.listdir(os.path.join(basepath,'ECGDataDenoised'))\n",
    "database = pd.read_csv(os.path.join(basepath,'Diagnostics.csv'))\n",
    "dates = database['FileName'].str.split('_',expand=True).iloc[:,1]\n",
    "dates.name = 'Dates'\n",
    "dates = pd.to_datetime(dates)\n",
    "database_with_dates = pd.concat((database,dates),1)\n",
    "#\"\"\" Unique Dates in Database \"\"\"\n",
    "#enc.fit(dates)\n",
    "\n",
    "\"\"\" Combine Rhythm Labels \"\"\"\n",
    "old_rhythms = ['AF','SVT','ST','AT','AVNRT','AVRT','SAAWR','SI','SA']\n",
    "new_rhythms = ['AFIB','GSVT','GSVT','GSVT','GSVT','GSVT','GSVT','SR','SR']\n",
    "database_with_dates['Rhythm'] = database_with_dates['Rhythm'].replace(old_rhythms,new_rhythms)\n",
    "unique_labels = database_with_dates['Rhythm'].value_counts().index.tolist()\n",
    "enc.fit(unique_labels)\n",
    "\n",
    "\"\"\" Combine Dates \"\"\"\n",
    "def combine_dates(date):\n",
    "    new_dates = ['All Terms']#use this for continual learning dataset ['Term 1','Term 2','Term 3']\n",
    "    cutoff_dates = ['2019-01-01']##use this for continual learning dataset ['2018-01-16','2018-02-09','2018-12-30']\n",
    "    cutoff_dates = [pd.Timestamp(date) for date in cutoff_dates]\n",
    "    for t,cutoff_date in enumerate(cutoff_dates):\n",
    "        if date < cutoff_date:\n",
    "            new_date = new_dates[t]\n",
    "            break\n",
    "    return new_date\n",
    "database_with_dates['Dates'] = database_with_dates['Dates'].apply(combine_dates)\n",
    "\n",
    "#%%\n",
    "\"\"\" Look at Label Composition \"\"\"\n",
    "#\"\"\" GroupBy output can be treated as an interable \"\"\"\n",
    "groupby_dates = database_with_dates.groupby('Dates')\n",
    "groupby_dates['Rhythm'].value_counts()"
   ]
  },
  {
   "cell_type": "code",
   "execution_count": 32,
   "id": "a9a8472c",
   "metadata": {},
   "outputs": [],
   "source": [
    "phases = ['train','val','test']\n",
    "phase_fractions = [0.8, 0.1, 0.1]\n",
    "phase_fractions_dict = dict(zip(phases,phase_fractions))\n",
    "\n",
    "term_phase_patients = dict()\n",
    "term = \"All Terms\"\n",
    "term_phase_patients[term] = dict()\n",
    "term_patients = database_with_dates['FileName'][database_with_dates['Dates'] == term]\n",
    "random_term_patients = term_patients.sample(frac=1,random_state=0)\n",
    "start = 0\n",
    "for phase,fraction in phase_fractions_dict.items():\n",
    "    if phase == 'test':\n",
    "        phase_patients = random_term_patients.iloc[start:].tolist() #to avoid missing last patient due to rounding\n",
    "    else:\n",
    "        npatients = int(fraction*len(term_patients))\n",
    "        phase_patients = random_term_patients.iloc[start:start+npatients].tolist()\n",
    "    term_phase_patients[term][phase] = phase_patients\n",
    "    start += npatients"
   ]
  },
  {
   "cell_type": "code",
   "execution_count": 70,
   "id": "7687fe45",
   "metadata": {},
   "outputs": [
    {
     "data": {
      "text/plain": [
       "6121    MUSE_20180113_135045_85000\n",
       "5173    MUSE_20180113_075515_49000\n",
       "7052    MUSE_20180113_131421_44000\n",
       "3759    MUSE_20180209_121003_67000\n",
       "6526    MUSE_20180209_173904_56000\n",
       "                   ...            \n",
       "9225    MUSE_20180113_174454_52000\n",
       "4859    MUSE_20180112_124508_91000\n",
       "3264    MUSE_20180118_131538_09000\n",
       "9845    MUSE_20180113_122543_14000\n",
       "2732    MUSE_20180210_122936_38000\n",
       "Name: FileName, Length: 10646, dtype: object"
      ]
     },
     "execution_count": 70,
     "metadata": {},
     "output_type": "execute_result"
    }
   ],
   "source": [
    "random_term_patients"
   ]
  },
  {
   "cell_type": "code",
   "execution_count": 41,
   "id": "9e935083",
   "metadata": {},
   "outputs": [
    {
     "name": "stderr",
     "output_type": "stream",
     "text": [
      "  0%|          | 0/6387 [00:00<?, ?it/s]\n",
      "  0%|          | 0/2129 [00:00<?, ?it/s]\n",
      "  0%|          | 0/2130 [00:00<?, ?it/s]\n"
     ]
    }
   ],
   "source": [
    "sampling_rate = 500\n",
    "modality_list = ['ecg']\n",
    "fraction_list = [1]\n",
    "leads = ['I','II','III','aVR','aVL','aVF','V1','V2','V3','V4','V5','V6']\n",
    "desired_leads = ['I','II','III','aVR','aVL','aVF','V1','V2','V3','V4','V5','V6']\n",
    "inputs_dict = dict()\n",
    "outputs_dict = dict()\n",
    "pids = dict()\n",
    "\n",
    "for phase in phases:\n",
    "    current_patients = term_phase_patients[term][phase]\n",
    "    current_inputs = []\n",
    "    current_outputs = []\n",
    "    current_pids = []\n",
    "    for patient in tqdm(current_patients):\n",
    "        filename = patient + '.csv'\n",
    "        data = pd.read_csv(os.path.join(basepath,'ECGDataDenoised',filename)) #SxL\n",
    "        \n",
    "        resampling_length = 5000\n",
    "        data_resampled = resample(data,resampling_length)\n",
    "        data_resampled = data_resampled.T #12x2500\n",
    "        lead_indices = np.where(np.in1d(leads,desired_leads))[0]\n",
    "        data_resampled = data_resampled[lead_indices,:] #12x2500\n",
    "        \n",
    "        label = database_with_dates['Rhythm'][database_with_dates['FileName']==patient]\n",
    "        encoded_label = enc.transform(label).item()\n",
    "\n",
    "        current_inputs.append(data_resampled) #might need to change to '.extend' instead of '.append' to end up with 2D matrix at the end. \n",
    "        current_outputs.append([encoded_label for _ in range(data_resampled.shape[0])])\n",
    "        current_pids.append([patient for _ in range(data_resampled.shape[0])])\n",
    "        break\n",
    "    inputs_dict[phase] = np.array(current_inputs)\n",
    "    outputs_dict[phase] = np.array(current_outputs)\n",
    "    pids[phase] = np.array(current_pids)"
   ]
  },
  {
   "cell_type": "code",
   "execution_count": 52,
   "id": "5c9ef26e",
   "metadata": {},
   "outputs": [],
   "source": [
    "save_path = \"/home/gridsan/ybo/advaug/data/chapman/\"\n",
    "inputs_dict['train'].dump(os.path.join(save_path, \"X_train.npy\"), protocol=4)"
   ]
  },
  {
   "cell_type": "code",
   "execution_count": 54,
   "id": "758289c3",
   "metadata": {},
   "outputs": [
    {
     "data": {
      "text/plain": [
       "(1, 12, 5000)"
      ]
     },
     "execution_count": 54,
     "metadata": {},
     "output_type": "execute_result"
    }
   ],
   "source": [
    "y = np.load(\"/home/gridsan/ybo/advaug/data/chapman/y_train.npy\", allow_pickle=True)\n",
    "x = np.load(\"/home/gridsan/ybo/advaug/data/chapman/X_train.npy\", allow_pickle=True)"
   ]
  },
  {
   "cell_type": "code",
   "execution_count": 63,
   "id": "4da3c76d",
   "metadata": {},
   "outputs": [
    {
     "data": {
      "text/plain": [
       "(2, 12, 5000)"
      ]
     },
     "execution_count": 63,
     "metadata": {},
     "output_type": "execute_result"
    }
   ],
   "source": [
    "g = np.empty([0, 12, 5000])\n",
    "g = np.append(g, x, axis=0)\n",
    "g = np.append(g, x, axis=0)\n",
    "g.shape"
   ]
  },
  {
   "cell_type": "code",
   "execution_count": 89,
   "id": "f5a18071",
   "metadata": {},
   "outputs": [],
   "source": [
    "import numpy as np\n",
    "import os\n",
    "import torch\n",
    "from torch.utils.data import Dataset, DataLoader\n",
    "from torchvision import transforms, utils\n",
    "from itertools import repeat\n",
    "import math\n",
    "from scipy.spatial.transform import Rotation as R\n",
    "import scipy"
   ]
  },
  {
   "cell_type": "code",
   "execution_count": 122,
   "id": "fa895fe9",
   "metadata": {},
   "outputs": [],
   "source": [
    "class ToTensor1D:\n",
    "    def __call__(self, sample):\n",
    "        return torch.from_numpy(sample)\n",
    "\n",
    "class Normalize: \n",
    "    def __call__(self, x):\n",
    "        if isinstance(x, np.ndarray):\n",
    "            x = (x - np.min(x))/(np.max(x) - np.min(x) + 1e-8)\n",
    "        elif isinstance(x,torch.Tensor):\n",
    "            x = (x - torch.min(x))/(torch.max(x) - torch.min(x) + 1e-8)\n",
    "        return x\n",
    "\n",
    "class GaussianNoise:\n",
    "    def __init__(self, sigma=0.05):\n",
    "        self.sigma = sigma\n",
    "\n",
    "    def __call__(self, x):\n",
    "        size = x.shape[-1]\n",
    "        gauss_noise = np.random.normal(0,self.sigma,size=size)\n",
    "        x = x + gauss_noise\n",
    "        return x\n",
    "\n",
    "class BaselineWander:\n",
    "    def __init__(\n",
    "        self,\n",
    "        max_amplitude=0.5,\n",
    "        min_amplitude=0,\n",
    "        max_freq=0.2,\n",
    "        min_freq=0.01,\n",
    "        k=3,\n",
    "        freq=500,\n",
    "    ):\n",
    "        self.max_amplitude = max_amplitude\n",
    "        self.min_amplitude = min_amplitude\n",
    "        self.max_freq = max_freq\n",
    "        self.min_freq = min_freq\n",
    "        self.k = k\n",
    "        self.freq = freq\n",
    "    \n",
    "    def __call__(self, sample):\n",
    "        new_sample = sample.copy()\n",
    "        csz, tsz = new_sample.shape\n",
    "        amp_channel = np.random.normal(1, 0.5, size=(csz, 1))\n",
    "        c = np.array([i for i in range(12)])\n",
    "        amp_general = np.random.uniform(self.min_amplitude, self.max_amplitude, size=self.k)\n",
    "        noise = np.zeros(shape=(1, tsz))\n",
    "        for k in range(self.k):\n",
    "            noise += self._apply_baseline_wander(tsz) * amp_general[k]\n",
    "        noise = (noise * amp_channel).astype(np.float32)\n",
    "        new_sample[c,:] = new_sample[c,:] + noise[c,:]\n",
    "        return new_sample.astype(float)\n",
    "        \n",
    "    def _apply_baseline_wander(self, tsz):\n",
    "        f = np.random.uniform(self.min_freq, self.max_freq)\n",
    "        t = np.linspace(0, tsz-1, tsz)\n",
    "        r = np.random.uniform(0, 2*np.pi)\n",
    "        noise = np.cos(2*np.pi*f*(t/self.freq)+r)\n",
    "        return noise\n",
    "\n",
    "class BaselineShift:\n",
    "    def __init__(\n",
    "        self,\n",
    "        max_amplitude=0.25,\n",
    "        min_amplitude=0,\n",
    "        shift_ratio=0.2,\n",
    "        num_segment=1,\n",
    "        freq=500,\n",
    "    ):\n",
    "        self.max_amplitude = max_amplitude\n",
    "        self.min_amplitude = min_amplitude\n",
    "        self.shift_ratio = shift_ratio\n",
    "        self.num_segment = num_segment\n",
    "        self.freq = freq\n",
    "    \n",
    "    def __call__(self, sample):\n",
    "        new_sample = sample.copy()\n",
    "        csz, tsz = new_sample.shape\n",
    "        shift_length = tsz * self.shift_ratio\n",
    "        amp_channel = np.random.choice([1, -1], size=(csz, 1))\n",
    "        amp_general = np.random.uniform(self.min_amplitude, self.max_amplitude, size=(1,1))\n",
    "        amp = amp_channel - amp_general\n",
    "        noise = np.zeros(shape=(csz, tsz))\n",
    "        for i in range(self.num_segment):\n",
    "            segment_len = np.random.normal(shift_length, shift_length*0.2)\n",
    "            t0 = int(np.random.uniform(0, tsz-segment_len))\n",
    "            t = int(t0+segment_len)\n",
    "            c = np.array([i for i in range(12)])\n",
    "            noise[c, t0:t] = 1\n",
    "        new_sample = new_sample + noise * amp\n",
    "        return new_sample.astype(float)\n",
    "\n",
    "class PowerlineNoise:\n",
    "    def __init__(\n",
    "        self,\n",
    "        max_amplitude=0.5,\n",
    "        min_amplitude=0,\n",
    "        freq=500,\n",
    "    ):\n",
    "        self.max_amplitude = max_amplitude\n",
    "        self.min_amplitude = min_amplitude\n",
    "        self.freq = freq\n",
    "\n",
    "    def __call__(self, sample):\n",
    "        new_sample = sample.copy()\n",
    "        csz, tsz = new_sample.shape\n",
    "        amp = np.random.uniform(self.min_amplitude, self.max_amplitude, size=(1,1))\n",
    "        f = 50 if np.random.uniform(0,1) > 0.5 else 60\n",
    "        noise = self._apply_powerline_noise(tsz, f)\n",
    "        new_sample = new_sample + noise * amp\n",
    "        return new_sample.astype(float)\n",
    "\n",
    "    def _apply_powerline_noise(self, tsz, f):\n",
    "        t = np.linspace(0,tsz-1,tsz)\n",
    "        phase = np.random.uniform(0,2*np.pi)\n",
    "        noise = np.cos(2*np.pi*f*(t/self.freq)+phase)\n",
    "        return noise\n",
    "\n",
    "class EMGNoise:\n",
    "    def __init__(\n",
    "        self,\n",
    "        max_amplitude=0.1,\n",
    "        min_amplitude=0,\n",
    "    ):\n",
    "        self.max_amplitude = max_amplitude\n",
    "        self.min_amplitude = min_amplitude\n",
    "    \n",
    "    def __call__(self, sample):\n",
    "        new_sample = sample.copy()\n",
    "        csz, tsz = new_sample.shape\n",
    "        amp = np.random.uniform(self.min_amplitude, self.max_amplitude, size=(csz, 1))\n",
    "        noise = np.random.normal(0, 1, [csz, tsz])\n",
    "        new_sample = new_sample + noise * amp\n",
    "        return new_sample.astype(float)\n",
    "    \n",
    "class RandomLeadsMask(object):\n",
    "    def __init__(\n",
    "        self,\n",
    "        mask_leads_prob=0.5,\n",
    "        mask_leads_condition=None,\n",
    "    ):\n",
    "        self.mask_leads_prob = mask_leads_prob\n",
    "    \n",
    "    def __call__(self, sample):\n",
    "        new_sample = np.zeros(sample.shape)\n",
    "        survivors = np.random.uniform(0, 1, size=12) >= self.mask_leads_prob\n",
    "        new_sample[survivors] = sample[survivors]\n",
    "        return new_sample.astype(float)\n",
    "\n",
    "\n",
    "class _3KGTransform:\n",
    "    def __init__(\n",
    "        self,\n",
    "        angle=45,\n",
    "        scale=1.5,\n",
    "        mask_ratio=0.5,\n",
    "        **kwargs\n",
    "    ):\n",
    "        self.angle = angle\n",
    "        self.scale = scale\n",
    "        self.mask_ratio = mask_ratio\n",
    "    \n",
    "    def _get_other_four_leads(self, I, II):\n",
    "        \"\"\"calculate other four leads (III, aVR, aVL, aVF) from the first two leads (I, II)\"\"\"\n",
    "        III = -I + II\n",
    "        aVR = -(I + II) / 2\n",
    "        aVL = I - II/2\n",
    "        aVF = -I/2 + II\n",
    "\n",
    "        return III, aVR, aVL, aVF\n",
    "\n",
    "    def __call__(self, sample):\n",
    "        leads_taken = [0,1,6,7,8,9,10,11]\n",
    "        other_leads = [2,3,4,5]\n",
    "        sample = sample[leads_taken]\n",
    "\n",
    "        D_i = np.array(\n",
    "            [\n",
    "                [0.156, -0.009, -0.172, -0.073, 0.122, 0.231, 0.239, 0.193],\n",
    "                [-0.227, 0.886, 0.057, -0.019, -0.106, -0.022, 0.040, 0.048],\n",
    "                [0.021, 0.102, -0.228, -0.310, -0.245, -0.063, 0.054, 0.108]\n",
    "            ]\n",
    "        )\n",
    "        D = np.linalg.pinv(D_i)\n",
    "\n",
    "        vcg = D_i @ sample\n",
    "\n",
    "        if self.angle:\n",
    "            angles = np.random.uniform(-self.angle, self.angle, size=6)\n",
    "            R1 = R.from_euler('zyx', angles[:3], degrees=True).as_dcm()\n",
    "            R2 = R.from_euler('zyx', angles[3:], degrees=True).as_dcm()\n",
    "        else:\n",
    "            R1 = np.diag((1,1,1))\n",
    "            R2 = np.diag((1,1,1))\n",
    "        \n",
    "        if self.scale:\n",
    "            scales = np.random.uniform(1, self.scale, size=6)\n",
    "            S1 = np.diag(scales[:3])\n",
    "            S2 = np.diag(scales[3:])\n",
    "        else:\n",
    "            S1 = np.diag((1,1,1))\n",
    "            S2 = np.diag((1,1,1))\n",
    "        \n",
    "        res1 = D @ S1 @ R1 @ vcg\n",
    "        res2 = D @ S2 @ R2 @ vcg\n",
    "\n",
    "        sample_size = sample.shape[-1]\n",
    "\n",
    "        ecg1 = np.zeros((12, sample_size))\n",
    "        ecg2 = np.zeros((12, sample_size))\n",
    "\n",
    "        ecg1[leads_taken] = res1\n",
    "        ecg1[other_leads] = self._get_other_four_leads(res1[0], res1[1])\n",
    "\n",
    "        ecg2[leads_taken] = res2\n",
    "        ecg2[other_leads] = self._get_other_four_leads(res2[0], res2[1])\n",
    "\n",
    "        if self.mask_ratio:\n",
    "            sample_size = sample.shape[-1]\n",
    "            offset = math.floor(sample_size * self.mask_ratio)\n",
    "\n",
    "            start_indices = np.random.randint(0, sample_size, size=24)\n",
    "            end_indices = np.array(\n",
    "                [\n",
    "                    s + offset if s + offset <= sample_size else sample_size\n",
    "                    for s in start_indices\n",
    "                ]\n",
    "            )\n",
    "            leftovers = np.array(\n",
    "                [\n",
    "                    s + offset - sample_size if s + offset > sample_size else 0\n",
    "                    for s in start_indices\n",
    "                ]\n",
    "            )\n",
    "\n",
    "            for i in range(12):\n",
    "                ecg1[i, start_indices[i]:end_indices[i]] = 0\n",
    "                ecg1[i, 0:leftovers[i]] = 0\n",
    "            \n",
    "                ecg2[i, start_indices[i+12]:end_indices[i+12]] = 0\n",
    "                ecg2[i, 0:leftovers[i+12]] = 0\n",
    "        \n",
    "        return (ecg1, ecg2)\n"
   ]
  },
  {
   "cell_type": "code",
   "execution_count": 109,
   "id": "f4b14772",
   "metadata": {},
   "outputs": [],
   "source": [
    "class CollatedTransform:\n",
    "    \"\"\"Adds callable base class to implement different transformation pipelines.\"\"\"\n",
    "\n",
    "    def __init__(self, augmentations):\n",
    "        self.augmentations = augmentations.split(\"_\")\n",
    "        self.transform = transforms.Compose([])\n",
    "\n",
    "        if 'gaussian' in self.augmentations:\n",
    "            self.transform = transforms.Compose([self.transform, GaussianNoise()])\n",
    "        if 'powerline' in self.augmentations:\n",
    "            self.transform = transforms.Compose([self.transform, PowerlineNoise()])\n",
    "        if 'wander' in self.augmentations:\n",
    "            self.transform = transforms.Compose([self.transform, BaselineWander()])\n",
    "        if 'shift' in self.augmentations:\n",
    "            self.transform = transforms.Compose([self.transform, BaselineShift()])\n",
    "        if 'emg' in self.augmentations:\n",
    "            self.transform = transforms.Compose([self.transform, EMGNoise()])\n",
    "        if '3kg' in self.augmentations:\n",
    "            self.transform = transforms.Compose([self.transform, _3KGTransform()])\n",
    "\n",
    "        self.transform = transforms.Compose([self.transform, \n",
    "                                            ToTensor1D(),\n",
    "                                            Normalize()])\n",
    "        \n",
    "        if 'rlm' in self.augmentations:\n",
    "            self.transform = transforms.Compose([self.transform, RandomLeadsMask()])\n",
    "\n",
    "    def __call__(self, x):\n",
    "        return self.transform(x)\n",
    "\n",
    "    def __repr__(self):\n",
    "        return str(self.transform)"
   ]
  },
  {
   "cell_type": "code",
   "execution_count": 38,
   "id": "ea22c8bb",
   "metadata": {},
   "outputs": [],
   "source": [
    "class DatasetWrapper(Dataset):\n",
    "\n",
    "    def __init__(self, db_dir, method, phase, seed, positive_pairing=None, augmentations=None, nleads=12):\n",
    "        self.db_dir = db_dir\n",
    "        self.positive_pairing = positive_pairing\n",
    "        self.transform = CollatedTransform(augmentations)\n",
    "        self.normalize = CollatedTransform(\"_\")\n",
    "        self.nleads = nleads\n",
    "        self.method = method\n",
    "        self.seed = seed \n",
    "        self.phase = phase\n",
    "\n",
    "        self.load_data()\n",
    "\n",
    "    def load_data(self):\n",
    "        self.X = np.load(os.path.join(self.db_dir, \"seed{}/X_{}.npy\".format(self.seed, self.phase)), allow_pickle=True)\n",
    "        self.y = np.load(os.path.join(self.db_dir, \"seed{}/y_{}.npy\".format(self.seed, self.phase)), allow_pickle=True)\n",
    "\n",
    "    def __len__(self):\n",
    "        return len(self.y)\n",
    "\n",
    "    def __getitem__(self, idx):\n",
    "        sample, label = self.X[idx], self.y[idx]\n",
    "        label = torch.tensor(label,dtype=torch.long)\n",
    "\n",
    "        if self.method == \"transfer\":\n",
    "            sample = self.normalize(sample)\n",
    "            return sample.float(), label\n",
    "\n",
    "        else:\n",
    "            nsamples = sample.shape[-1]\n",
    "            if self.positive_pairing == 'CMSC': \n",
    "                combined_sample = torch.empty(self.nleads, nsamples, 2)\n",
    "            elif self.positive_pairing == 'CMLC': \n",
    "                combined_sample = torch.empty(1, nsamples, self.nleads)\n",
    "            elif self.positive_pairing == 'CMSMLC': \n",
    "                combined_sample = torch.empty(self.nleads, nsamples, 2)\n",
    "            elif self.positive_pairing == 'PCLR': \n",
    "                combined_sample = torch.empty(self.nleads, nsamples, 2)\n",
    "            else: \n",
    "                combined_sample = torch.empty(self.nleads, nsamples, 2)\n",
    "                combined_sample[:,:,0] = self.normalize(sample)\n",
    "                combined_sample[:,:,1] = self.transform(sample)\n",
    "            \n",
    "            return combined_sample.float(), label"
   ]
  },
  {
   "cell_type": "code",
   "execution_count": 132,
   "id": "c7e5aeae",
   "metadata": {},
   "outputs": [],
   "source": [
    "d = DatasetWrapper(db_dir=\"/home/gridsan/ybo/advaug/data/chapman\", trial=\"transfer\", phase=\"train\", seed=1, positive_pairing=None, augmentations=\"normalize\", nleads=12)"
   ]
  },
  {
   "cell_type": "code",
   "execution_count": 15,
   "id": "c26a05ae",
   "metadata": {},
   "outputs": [],
   "source": [
    "from torch.utils.data import DataLoader, random_split\n",
    "\n",
    "from pytorch_lightning import LightningDataModule, LightningModule, Trainer\n",
    "import pytorch_lightning as pl\n",
    "\n",
    "class ECGDataModule(LightningDataModule):\n",
    "\n",
    "    def __init__(self, dataset, batch_size, method, seed, positive_pairing, augmentations, nleads, num_workers, do_test=False):\n",
    "        super().__init__()\n",
    "\n",
    "        self.db_dir = os.path.join(\"/home/gridsan/ybo/advaug/data/\", dataset)\n",
    "        self.data_train = DatasetWrapper(self.db_dir, method, \"train\", seed, positive_pairing=positive_pairing, augmentations=augmentations, nleads=nleads)\n",
    "        self.data_val = DatasetWrapper(self.db_dir, method, \"val\", seed, positive_pairing=positive_pairing, augmentations=augmentations, nleads=nleads)\n",
    "        if do_test:\n",
    "            self.data_test = DatasetWrapper(self.db_dir, method, \"test\", seed, positive_pairing=positive_pairing, augmentations=augmentations, nleads=nleads)\n",
    "\n",
    "        self.batch_size = batch_size\n",
    "        self.num_workers = num_workers\n",
    " \n",
    "    def train_dataloader(self):\n",
    "        '''returns training dataloader'''\n",
    "        return DataLoader(self.data_train, batch_size=self.batch_size, shuffle=True, num_workers=self.num_workers)\n",
    "\n",
    "    def val_dataloader(self):\n",
    "        '''returns validation dataloader'''\n",
    "        return DataLoader(self.data_val, batch_size=self.batch_size, shuffle=False, num_workers=self.num_workers)\n",
    "\n",
    "    def test_dataloader(self):\n",
    "        '''returns test dataloader'''\n",
    "        return DataLoader(self.data_test, batch_size=self.batch_size, shuffle=False, num_workers=self.num_workers)\n"
   ]
  },
  {
   "cell_type": "code",
   "execution_count": 16,
   "id": "6e651673",
   "metadata": {},
   "outputs": [],
   "source": [
    "datamodule = ECGDataModule(dataset=\"cinc2021\", num_workers=1,\n",
    "                           batch_size=32, method=\"pretrain\", seed=1, positive_pairing=\"SimCLR\",\n",
    "                           augmentations=\"gaussian\", nleads=12)\n",
    "train_loader = datamodule.train_dataloader()\n",
    "sample = next(enumerate(train_loader))"
   ]
  },
  {
   "cell_type": "code",
   "execution_count": 40,
   "id": "2615cdfe",
   "metadata": {},
   "outputs": [],
   "source": [
    "d = DatasetWrapper(db_dir=\"/home/gridsan/ybo/advaug/data/cinc2021\", method=\"pretrain\",\n",
    "                   phase=\"val\", seed=1, positive_pairing=\"SimCLR\", augmentations=\"gaussian\", nleads=12)"
   ]
  },
  {
   "cell_type": "code",
   "execution_count": 52,
   "id": "b3dea98c",
   "metadata": {},
   "outputs": [],
   "source": [
    "idx = 0\n",
    "sample = d.__getitem__(idx)\n",
    "\n",
    "ecg = sample[0]\n",
    "normal = ecg[0]\n",
    "perturbed = ecg[1]\n",
    "label = sample[1]"
   ]
  },
  {
   "cell_type": "code",
   "execution_count": 50,
   "id": "f90f8fc3",
   "metadata": {},
   "outputs": [
    {
     "data": {
      "image/png": "[encoded data removed]",
      "text/plain": [
       "<Figure size 432x288 with 1 Axes>"
      ]
     },
     "metadata": {
      "needs_background": "light"
     },
     "output_type": "display_data"
    }
   ],
   "source": [
    "from matplotlib import pyplot as plt\n",
    "\n",
    "plt.plot(ecg[0,:,0])\n",
    "plt.plot(ecg[0,:,1], alpha=0.5)\n",
    "plt.show()"
   ]
  },
  {
   "cell_type": "code",
   "execution_count": 124,
   "id": "0fa58fcd",
   "metadata": {},
   "outputs": [],
   "source": [
    "augmentations = \"3kg\"\n",
    "transform = CollatedTransform(augmentations)\n",
    "normalize = CollatedTransform(\"_\")"
   ]
  },
  {
   "cell_type": "code",
   "execution_count": 125,
   "id": "80926809",
   "metadata": {},
   "outputs": [
    {
     "ename": "TypeError",
     "evalue": "expected np.ndarray (got tuple)",
     "output_type": "error",
     "traceback": [
      "\u001b[0;31m---------------------------------------------------------------------------\u001b[0m",
      "\u001b[0;31mTypeError\u001b[0m                                 Traceback (most recent call last)",
      "Input \u001b[0;32mIn [125]\u001b[0m, in \u001b[0;36m<cell line: 3>\u001b[0;34m()\u001b[0m\n\u001b[1;32m      1\u001b[0m ecg \u001b[38;5;241m=\u001b[39m d\u001b[38;5;241m.\u001b[39mX[idx]\n\u001b[1;32m      2\u001b[0m normal \u001b[38;5;241m=\u001b[39m normalize(ecg)\n\u001b[0;32m----> 3\u001b[0m perturbed \u001b[38;5;241m=\u001b[39m \u001b[43mtransform\u001b[49m\u001b[43m(\u001b[49m\u001b[43mecg\u001b[49m\u001b[43m)\u001b[49m\n",
      "Input \u001b[0;32mIn [109]\u001b[0m, in \u001b[0;36mCollatedTransform.__call__\u001b[0;34m(self, x)\u001b[0m\n\u001b[1;32m     28\u001b[0m \u001b[38;5;28;01mdef\u001b[39;00m \u001b[38;5;21m__call__\u001b[39m(\u001b[38;5;28mself\u001b[39m, x):\n\u001b[0;32m---> 29\u001b[0m     \u001b[38;5;28;01mreturn\u001b[39;00m \u001b[38;5;28;43mself\u001b[39;49m\u001b[38;5;241;43m.\u001b[39;49m\u001b[43mtransform\u001b[49m\u001b[43m(\u001b[49m\u001b[43mx\u001b[49m\u001b[43m)\u001b[49m\n",
      "File \u001b[0;32m~/.local/lib/python3.8/site-packages/torchvision/transforms/transforms.py:95\u001b[0m, in \u001b[0;36mCompose.__call__\u001b[0;34m(self, img)\u001b[0m\n\u001b[1;32m     93\u001b[0m \u001b[38;5;28;01mdef\u001b[39;00m \u001b[38;5;21m__call__\u001b[39m(\u001b[38;5;28mself\u001b[39m, img):\n\u001b[1;32m     94\u001b[0m     \u001b[38;5;28;01mfor\u001b[39;00m t \u001b[38;5;129;01min\u001b[39;00m \u001b[38;5;28mself\u001b[39m\u001b[38;5;241m.\u001b[39mtransforms:\n\u001b[0;32m---> 95\u001b[0m         img \u001b[38;5;241m=\u001b[39m \u001b[43mt\u001b[49m\u001b[43m(\u001b[49m\u001b[43mimg\u001b[49m\u001b[43m)\u001b[49m\n\u001b[1;32m     96\u001b[0m     \u001b[38;5;28;01mreturn\u001b[39;00m img\n",
      "Input \u001b[0;32mIn [122]\u001b[0m, in \u001b[0;36mToTensor1D.__call__\u001b[0;34m(self, sample)\u001b[0m\n\u001b[1;32m      2\u001b[0m \u001b[38;5;28;01mdef\u001b[39;00m \u001b[38;5;21m__call__\u001b[39m(\u001b[38;5;28mself\u001b[39m, sample):\n\u001b[0;32m----> 3\u001b[0m     \u001b[38;5;28;01mreturn\u001b[39;00m \u001b[43mtorch\u001b[49m\u001b[38;5;241;43m.\u001b[39;49m\u001b[43mfrom_numpy\u001b[49m\u001b[43m(\u001b[49m\u001b[43msample\u001b[49m\u001b[43m)\u001b[49m\n",
      "\u001b[0;31mTypeError\u001b[0m: expected np.ndarray (got tuple)"
     ]
    }
   ],
   "source": [
    "ecg = d.X[idx]\n",
    "normal = normalize(ecg)\n",
    "perturbed = transform(ecg)"
   ]
  },
  {
   "cell_type": "code",
   "execution_count": 117,
   "id": "38e8d07e",
   "metadata": {},
   "outputs": [
    {
     "data": {
      "image/png": "[encoded data removed]",
      "text/plain": [
       "<Figure size 432x288 with 1 Axes>"
      ]
     },
     "metadata": {
      "needs_background": "light"
     },
     "output_type": "display_data"
    }
   ],
   "source": [
    "plt.plot(normal[0,:])\n",
    "plt.plot(perturbed[0,:], alpha=0.5)\n",
    "plt.show()"
   ]
  },
  {
   "cell_type": "code",
   "execution_count": 1,
   "id": "d68d31aa",
   "metadata": {},
   "outputs": [],
   "source": [
    "import os\n",
    "import json\n",
    "from pathlib import Path\n",
    "import torch\n",
    "import numpy as np\n",
    "\n",
    "from pytorch_lightning import Trainer, seed_everything\n",
    "from pytorch_lightning.callbacks import LearningRateMonitor\n",
    "from pytorch_lightning.loggers import WandbLogger\n",
    "\n",
    "from setup import parse_args_pretrain\n",
    "\n",
    "from model.transfer_model import TransferModel\n",
    "from utils.checkpointer import Checkpointer\n",
    "from setup import METHODS, NUM_CLASSES, BACKBONES\n",
    "\n",
    "from data.datamodule import ECGDataModule\n",
    "import logging \n",
    "logging.basicConfig(level=logging.NOTSET)"
   ]
  },
  {
   "cell_type": "code",
   "execution_count": 2,
   "id": "4838194d",
   "metadata": {},
   "outputs": [],
   "source": [
    "console_log = logging.getLogger(\"Lightning\")\n",
    "dataset = \"cinc2021\"\n",
    "encoder_name = \"resnet\""
   ]
  },
  {
   "cell_type": "code",
   "execution_count": 3,
   "id": "390b48a4",
   "metadata": {
    "scrolled": true
   },
   "outputs": [
    {
     "name": "stderr",
     "output_type": "stream",
     "text": [
      "INFO:torch.distributed.nn.jit.instantiator:Created a temporary directory at /state/partition1/slurm_tmp/19361980.0.0/tmp27yaqakr\n",
      "INFO:torch.distributed.nn.jit.instantiator:Writing /state/partition1/slurm_tmp/19361980.0.0/tmp27yaqakr/_remote_module_non_sriptable.py\n"
     ]
    },
    {
     "name": "stdout",
     "output_type": "stream",
     "text": [
      "Resnet with embedding dim 512\n",
      "Collating Gaussian with sigma=0.05.\n",
      "\n",
      "Collating Gaussian with sigma=0.05.\n",
      "\n"
     ]
    }
   ],
   "source": [
    "encoder = BACKBONES[encoder_name]()\n",
    "\n",
    "MethodClass = METHODS[\"base\"]\n",
    "model = MethodClass(encoder=encoder, \n",
    "                    console_log=console_log, \n",
    "                    n_classes=NUM_CLASSES[dataset], \n",
    "                    target_type=\"multilabel\",\n",
    "                    max_epochs=5,\n",
    "                    batch_size=256,\n",
    "                    lr=0.001,\n",
    "                    weight_decay=0,\n",
    "                    temperature=0.1,\n",
    "                    proj_hidden_dim=1024,\n",
    "                    output_dim=128,\n",
    "                    positive_pairing=\"SimCLR\")\n",
    "\n",
    "data_module= ECGDataModule(data_dir=\"/home/gridsan/ybo/advaug/data/\", \n",
    "                           dataset=dataset, \n",
    "                           batch_size=32, \n",
    "                           method=\"pretrain\", \n",
    "                           seed=42, \n",
    "                           positive_pairing=\"SimCLR\",\n",
    "                           nleads=12, \n",
    "                           num_workers=10, \n",
    "                           do_test=False,\n",
    "                          gaussian=True)"
   ]
  },
  {
   "cell_type": "code",
   "execution_count": 4,
   "id": "b9dbd688",
   "metadata": {},
   "outputs": [
    {
     "data": {
      "text/plain": [
       "Compose(\n",
       "    Compose(\n",
       "    Compose(\n",
       ")\n",
       "    <data.transforms.GaussianNoise object at 0x7f8911728640>\n",
       ")\n",
       "    <data.transforms.ToTensor1D object at 0x7f8911728850>\n",
       "    <data.transforms.Normalize object at 0x7f8911728880>\n",
       ")"
      ]
     },
     "execution_count": 4,
     "metadata": {},
     "output_type": "execute_result"
    }
   ],
   "source": [
    "data_module.data_train.transform\n"
   ]
  },
  {
   "cell_type": "code",
   "execution_count": 5,
   "id": "7f07775c",
   "metadata": {},
   "outputs": [],
   "source": [
    "projector = torch.nn.Sequential(\n",
    "    torch.nn.Linear(encoder.embedding_dim, 2048),\n",
    "    torch.nn.ReLU(),\n",
    "    torch.nn.Linear(2048, 128),\n",
    ")\n",
    "\n",
    "classifier = torch.nn.Linear(encoder.embedding_dim, NUM_CLASSES[dataset])"
   ]
  },
  {
   "cell_type": "code",
   "execution_count": 6,
   "id": "08f35823",
   "metadata": {},
   "outputs": [],
   "source": [
    "data_loader = data_module.train_dataloader()\n",
    "idx, (X, targets) = next(enumerate(data_loader))"
   ]
  },
  {
   "cell_type": "code",
   "execution_count": 20,
   "id": "6b362741",
   "metadata": {},
   "outputs": [],
   "source": [
    "train_dataloader = data_module.train_dataloader()\n",
    "for batch in train_dataloader:\n",
    "    (X, targets) = batch\n",
    "    if len(torch.unique(torch.isnan(X))) > 1:\n",
    "        nan = X\n",
    "        nan_y = targets\n",
    "        print(\"nan\")"
   ]
  },
  {
   "cell_type": "code",
   "execution_count": 7,
   "id": "47d59530",
   "metadata": {},
   "outputs": [],
   "source": [
    "feats = encoder(X[:,:,:,0])\n",
    "logits = classifier(feats.detach())\n",
    "z = projector(feats)"
   ]
  },
  {
   "cell_type": "code",
   "execution_count": 7,
   "id": "34c37085",
   "metadata": {},
   "outputs": [
    {
     "data": {
      "text/plain": [
       "tensor(0.6827, grad_fn=<BinaryCrossEntropyWithLogitsBackward0>)"
      ]
     },
     "execution_count": 7,
     "metadata": {},
     "output_type": "execute_result"
    }
   ],
   "source": [
    "loss_fn = torch.nn.BCEWithLogitsLoss()\n",
    "loss_fn(logits, targets.type(torch.float))"
   ]
  },
  {
   "cell_type": "code",
   "execution_count": 8,
   "id": "42ffd6f3",
   "metadata": {},
   "outputs": [
    {
     "data": {
      "text/plain": [
       "tensor(0.6814, grad_fn=<BinaryCrossEntropyBackward0>)"
      ]
     },
     "execution_count": 8,
     "metadata": {},
     "output_type": "execute_result"
    }
   ],
   "source": [
    "loss_fn2 = torch.nn.BCELoss()\n",
    "logits2 = torch.sigmoid(logits)\n",
    "loss_fn2(logits2, targets.type(torch.float))"
   ]
  },
  {
   "cell_type": "code",
   "execution_count": 16,
   "id": "ba2e1259",
   "metadata": {},
   "outputs": [
    {
     "data": {
      "text/plain": [
       "tensor([[0.4756, 0.4704, 0.5187, 0.4920, 0.3777, 0.5246, 0.6673, 0.5074, 0.4927,\n",
       "         0.5722, 0.4410, 0.4298, 0.4984, 0.4886, 0.5376, 0.4242, 0.5262, 0.4382,\n",
       "         0.4681, 0.4965, 0.5236],\n",
       "        [0.4625, 0.4585, 0.5157, 0.4784, 0.3758, 0.5360, 0.6579, 0.5189, 0.4730,\n",
       "         0.5919, 0.4536, 0.4207, 0.5170, 0.4524, 0.5144, 0.4320, 0.5440, 0.4449,\n",
       "         0.4685, 0.4960, 0.5139],\n",
       "        [0.4669, 0.4337, 0.5257, 0.5065, 0.3231, 0.4224, 0.6883, 0.4647, 0.5657,\n",
       "         0.5885, 0.3952, 0.4164, 0.5006, 0.4227, 0.5290, 0.3574, 0.4818, 0.4469,\n",
       "         0.4815, 0.4749, 0.5692],\n",
       "        [0.4618, 0.4535, 0.5082, 0.4665, 0.3267, 0.5309, 0.6720, 0.5192, 0.4943,\n",
       "         0.5655, 0.4222, 0.4851, 0.4538, 0.4340, 0.5346, 0.4132, 0.5257, 0.4239,\n",
       "         0.4606, 0.4576, 0.5188],\n",
       "        [0.4374, 0.4493, 0.5276, 0.4833, 0.3347, 0.4974, 0.6934, 0.5171, 0.5232,\n",
       "         0.5870, 0.3879, 0.4310, 0.4380, 0.4218, 0.5511, 0.3944, 0.5479, 0.4393,\n",
       "         0.4845, 0.4598, 0.5178],\n",
       "        [0.4564, 0.4581, 0.5117, 0.4882, 0.3706, 0.5219, 0.6634, 0.5229, 0.5126,\n",
       "         0.5484, 0.4423, 0.4404, 0.4947, 0.4389, 0.5406, 0.4310, 0.5241, 0.4429,\n",
       "         0.4629, 0.4732, 0.5145],\n",
       "        [0.4676, 0.4834, 0.4850, 0.4595, 0.3460, 0.5091, 0.6529, 0.5227, 0.4914,\n",
       "         0.5431, 0.4175, 0.4379, 0.4826, 0.4240, 0.5523, 0.4014, 0.4970, 0.4558,\n",
       "         0.4760, 0.4772, 0.5295],\n",
       "        [0.4452, 0.4520, 0.4905, 0.4657, 0.3154, 0.5093, 0.6536, 0.4822, 0.5329,\n",
       "         0.5532, 0.3897, 0.4258, 0.4743, 0.4340, 0.5373, 0.3935, 0.5174, 0.4468,\n",
       "         0.4704, 0.4822, 0.5605],\n",
       "        [0.4603, 0.4654, 0.5125, 0.4943, 0.3519, 0.4877, 0.6786, 0.5038, 0.5027,\n",
       "         0.5709, 0.4072, 0.4202, 0.4792, 0.4265, 0.5421, 0.4010, 0.5148, 0.4324,\n",
       "         0.4786, 0.4770, 0.5122],\n",
       "        [0.4781, 0.4674, 0.4786, 0.4389, 0.3179, 0.4910, 0.6652, 0.4736, 0.5162,\n",
       "         0.5655, 0.3834, 0.4370, 0.4620, 0.4594, 0.5908, 0.3970, 0.5147, 0.4434,\n",
       "         0.4798, 0.4772, 0.5446],\n",
       "        [0.4570, 0.4262, 0.5092, 0.4566, 0.2868, 0.4775, 0.6847, 0.5091, 0.5266,\n",
       "         0.5681, 0.3770, 0.4104, 0.4473, 0.4228, 0.5518, 0.3865, 0.5084, 0.4363,\n",
       "         0.4774, 0.4427, 0.5747],\n",
       "        [0.5022, 0.4604, 0.5260, 0.4761, 0.3655, 0.5407, 0.6391, 0.5023, 0.4634,\n",
       "         0.5912, 0.4432, 0.4354, 0.4970, 0.4681, 0.5255, 0.4253, 0.5162, 0.4592,\n",
       "         0.4994, 0.4800, 0.4837],\n",
       "        [0.4597, 0.4290, 0.5176, 0.4862, 0.3345, 0.5033, 0.6614, 0.4957, 0.4831,\n",
       "         0.5863, 0.4348, 0.4295, 0.5120, 0.4274, 0.5337, 0.4140, 0.5356, 0.4382,\n",
       "         0.4820, 0.4678, 0.5185],\n",
       "        [0.4535, 0.4821, 0.4632, 0.4363, 0.3251, 0.5530, 0.6446, 0.4834, 0.5101,\n",
       "         0.5101, 0.4020, 0.4417, 0.4656, 0.4433, 0.5684, 0.4353, 0.5236, 0.4465,\n",
       "         0.4676, 0.4702, 0.5457],\n",
       "        [0.4561, 0.4085, 0.5304, 0.4978, 0.3142, 0.4484, 0.6868, 0.4943, 0.5458,\n",
       "         0.5904, 0.3842, 0.3923, 0.4768, 0.4272, 0.5567, 0.3555, 0.5141, 0.4222,\n",
       "         0.4963, 0.4708, 0.5709],\n",
       "        [0.4705, 0.4294, 0.5211, 0.4530, 0.3166, 0.4851, 0.6929, 0.4953, 0.4964,\n",
       "         0.5846, 0.4095, 0.4344, 0.4916, 0.4346, 0.5359, 0.3906, 0.5182, 0.4486,\n",
       "         0.4939, 0.4868, 0.5293],\n",
       "        [0.4665, 0.4671, 0.5327, 0.4811, 0.3524, 0.5060, 0.6680, 0.5037, 0.5008,\n",
       "         0.5783, 0.4315, 0.4434, 0.5006, 0.4479, 0.5445, 0.4250, 0.5205, 0.4581,\n",
       "         0.4703, 0.4911, 0.5149],\n",
       "        [0.4736, 0.4662, 0.5096, 0.4974, 0.3694, 0.5115, 0.6620, 0.5135, 0.4915,\n",
       "         0.5565, 0.4322, 0.4341, 0.5029, 0.4629, 0.5380, 0.4403, 0.5190, 0.4428,\n",
       "         0.4635, 0.4720, 0.5230],\n",
       "        [0.4884, 0.4420, 0.5597, 0.4565, 0.3417, 0.4930, 0.6510, 0.5019, 0.4934,\n",
       "         0.6043, 0.4406, 0.4252, 0.4950, 0.4488, 0.5264, 0.4235, 0.5317, 0.4633,\n",
       "         0.4882, 0.4729, 0.5137],\n",
       "        [0.4675, 0.4706, 0.5015, 0.4620, 0.3022, 0.4799, 0.6620, 0.4742, 0.5280,\n",
       "         0.5470, 0.4007, 0.4573, 0.4475, 0.4323, 0.5746, 0.4295, 0.5091, 0.4474,\n",
       "         0.4742, 0.4631, 0.5410],\n",
       "        [0.4735, 0.4662, 0.5224, 0.4779, 0.3702, 0.5413, 0.6608, 0.5078, 0.4830,\n",
       "         0.5724, 0.4509, 0.4506, 0.4987, 0.4684, 0.5358, 0.4508, 0.5096, 0.4566,\n",
       "         0.4670, 0.4844, 0.5147],\n",
       "        [0.4655, 0.4578, 0.5319, 0.4637, 0.3289, 0.4516, 0.6533, 0.4881, 0.5339,\n",
       "         0.5974, 0.3972, 0.4087, 0.4906, 0.4288, 0.5361, 0.3830, 0.4927, 0.4768,\n",
       "         0.4962, 0.4468, 0.5671],\n",
       "        [0.4569, 0.4537, 0.5144, 0.4913, 0.3924, 0.5377, 0.6580, 0.5037, 0.4927,\n",
       "         0.5574, 0.4296, 0.4508, 0.4865, 0.4434, 0.5219, 0.4432, 0.5133, 0.4489,\n",
       "         0.4746, 0.4730, 0.5077],\n",
       "        [0.4632, 0.4645, 0.5014, 0.4508, 0.3168, 0.4947, 0.6610, 0.5182, 0.5112,\n",
       "         0.5500, 0.3850, 0.4410, 0.4483, 0.4305, 0.5646, 0.4085, 0.5116, 0.4508,\n",
       "         0.4757, 0.4740, 0.5404],\n",
       "        [0.5151, 0.4767, 0.5227, 0.4556, 0.3750, 0.5334, 0.6222, 0.4911, 0.4816,\n",
       "         0.5806, 0.4475, 0.4484, 0.5099, 0.4502, 0.5060, 0.4297, 0.5200, 0.4784,\n",
       "         0.4927, 0.4701, 0.5122],\n",
       "        [0.4963, 0.4677, 0.5142, 0.4868, 0.3719, 0.5225, 0.6546, 0.4962, 0.4914,\n",
       "         0.5390, 0.4233, 0.4325, 0.4866, 0.4755, 0.5342, 0.4541, 0.5274, 0.4613,\n",
       "         0.4682, 0.4709, 0.5050],\n",
       "        [0.4706, 0.4945, 0.5107, 0.4645, 0.3218, 0.4828, 0.6582, 0.5265, 0.5093,\n",
       "         0.5512, 0.3962, 0.4355, 0.4353, 0.4491, 0.5704, 0.4133, 0.4976, 0.4579,\n",
       "         0.4658, 0.4837, 0.5542],\n",
       "        [0.4544, 0.4463, 0.5271, 0.4741, 0.3272, 0.4951, 0.6817, 0.5012, 0.5082,\n",
       "         0.5669, 0.4073, 0.4322, 0.4754, 0.4083, 0.5419, 0.4035, 0.5422, 0.4474,\n",
       "         0.4613, 0.4487, 0.5258],\n",
       "        [0.4766, 0.4756, 0.4979, 0.4592, 0.3321, 0.5193, 0.6552, 0.5237, 0.4952,\n",
       "         0.5590, 0.3935, 0.4490, 0.4510, 0.4337, 0.5593, 0.4044, 0.5148, 0.4568,\n",
       "         0.4749, 0.4930, 0.5496],\n",
       "        [0.4604, 0.4575, 0.4849, 0.4586, 0.3201, 0.5105, 0.6583, 0.5003, 0.5253,\n",
       "         0.5634, 0.3942, 0.4420, 0.4609, 0.4189, 0.5565, 0.3915, 0.5029, 0.4391,\n",
       "         0.4684, 0.4704, 0.5593],\n",
       "        [0.4508, 0.3906, 0.4926, 0.4656, 0.2375, 0.3943, 0.6965, 0.4750, 0.5876,\n",
       "         0.5041, 0.3643, 0.4006, 0.4461, 0.4401, 0.5731, 0.3711, 0.5417, 0.3984,\n",
       "         0.4937, 0.4228, 0.5907],\n",
       "        [0.4651, 0.4746, 0.5050, 0.4855, 0.3998, 0.5499, 0.6462, 0.5298, 0.4744,\n",
       "         0.5491, 0.4524, 0.4547, 0.4594, 0.4418, 0.5157, 0.4577, 0.5126, 0.4402,\n",
       "         0.4689, 0.4913, 0.4868]], grad_fn=<SigmoidBackward0>)"
      ]
     },
     "execution_count": 16,
     "metadata": {},
     "output_type": "execute_result"
    }
   ],
   "source": [
    "logits2\n"
   ]
  },
  {
   "cell_type": "code",
   "execution_count": 46,
   "id": "a89906ba",
   "metadata": {},
   "outputs": [],
   "source": [
    "from data.cinc2021.utils_cinc2021 import evaluate_scores, df_weights_abbr, compute_modified_confusion_matrix, load_weights, compute_auc, compute_accuracy, compute_f_measure, compute_beta_measures,compute_challenge_metric"
   ]
  },
  {
   "cell_type": "code",
   "execution_count": 35,
   "id": "1028f44a",
   "metadata": {},
   "outputs": [],
   "source": [
    "def evaluate_scores_detailed(\n",
    "    truth, \n",
    "    binary_pred, \n",
    "    scalar_pred):\n",
    "\n",
    "    classes = df_weights_abbr.columns.tolist()\n",
    "    # sinus_rhythm = \"426783006\"\n",
    "    sinus_rhythm = \"NSR\"\n",
    "    weights = load_weights(classes=classes)\n",
    "\n",
    "    _truth = np.array(truth)\n",
    "    _binary_pred = np.array(binary_pred)\n",
    "    _scalar_pred = np.array(scalar_pred)\n",
    "\n",
    "    print(\"- AUROC and AUPRC...\")\n",
    "    auroc, auprc, auroc_classes, auprc_classes = compute_auc(_truth, _scalar_pred)\n",
    "\n",
    "    print(\"- Accuracy...\")\n",
    "    accuracy = compute_accuracy(_truth, _binary_pred)\n",
    "\n",
    "    print(\"- F-measure...\")\n",
    "    f_measure, f_measure_classes = compute_f_measure(_truth, _binary_pred)\n",
    "\n",
    "    print(\"- F-beta and G-beta measures...\")\n",
    "    # NOTE that F-beta and G-beta are not among metrics of CinC2021, in contrast to CinC2020\n",
    "    f_beta_measure, g_beta_measure = compute_beta_measures(_truth, _binary_pred, beta=2)\n",
    "\n",
    "#     print(\"- Challenge metric...\")\n",
    "#     challenge_metric = compute_challenge_metric(\n",
    "#         weights, _truth, _binary_pred, classes, sinus_rhythm\n",
    "#     )\n",
    "    challenge_metric = 0\n",
    "\n",
    "    print(\"Done.\")\n",
    "\n",
    "    # Return the results.\n",
    "    ret_tuple = (\n",
    "        auroc,\n",
    "        auprc,\n",
    "        auroc_classes,\n",
    "        auprc_classes,\n",
    "        accuracy,\n",
    "        f_measure,\n",
    "        f_measure_classes,\n",
    "        f_beta_measure,\n",
    "        g_beta_measure,\n",
    "        challenge_metric,\n",
    "    )\n",
    "    return ret_tuple\n"
   ]
  },
  {
   "cell_type": "code",
   "execution_count": 47,
   "id": "0a908216",
   "metadata": {},
   "outputs": [],
   "source": [
    "def compute_challenge_metric(\n",
    "    weights,\n",
    "    labels,\n",
    "    outputs,\n",
    "    classes,\n",
    "    sinus_rhythms) :\n",
    "    \"\"\"checked,\"\"\"\n",
    "    num_recordings, num_classes = np.shape(labels)\n",
    "    if sinus_rhythm in classes:\n",
    "        sinus_rhythm_index = classes.index(sinus_rhythm)\n",
    "    else:\n",
    "        raise ValueError(\"The sinus rhythm class is not available.\")\n",
    "\n",
    "    # Compute the observed score.\n",
    "    A = compute_modified_confusion_matrix(labels, outputs)\n",
    "    observed_score = np.nansum(weights * A)\n",
    "\n",
    "    # Compute the score for the model that always chooses the correct label(s).\n",
    "    correct_outputs = labels\n",
    "    A = compute_modified_confusion_matrix(labels, correct_outputs)\n",
    "    correct_score = np.nansum(weights * A)\n",
    "\n",
    "    # Compute the score for the model that always chooses the sinus rhythm class.\n",
    "    inactive_outputs = np.zeros((num_recordings, num_classes), dtype=np.bool)\n",
    "    inactive_outputs[:, sinus_rhythm_index] = 1\n",
    "    A = compute_modified_confusion_matrix(labels, inactive_outputs)\n",
    "    inactive_score = np.nansum(weights * A)\n",
    "\n",
    "    if correct_score != inactive_score:\n",
    "        normalized_score = float(observed_score - inactive_score) / float(\n",
    "            correct_score - inactive_score\n",
    "        )\n",
    "    else:\n",
    "        normalized_score = 0.0\n",
    "\n",
    "    return normalized_score\n"
   ]
  },
  {
   "cell_type": "code",
   "execution_count": 49,
   "id": "28f9f553",
   "metadata": {},
   "outputs": [
    {
     "ename": "ValueError",
     "evalue": "operands could not be broadcast together with shapes (30,30) (21,21) ",
     "output_type": "error",
     "traceback": [
      "\u001b[0;31m---------------------------------------------------------------------------\u001b[0m",
      "\u001b[0;31mValueError\u001b[0m                                Traceback (most recent call last)",
      "Input \u001b[0;32mIn [49]\u001b[0m, in \u001b[0;36m<cell line: 5>\u001b[0;34m()\u001b[0m\n\u001b[1;32m      2\u001b[0m sinus_rhythm \u001b[38;5;241m=\u001b[39m \u001b[38;5;124m'\u001b[39m\u001b[38;5;124mNSR\u001b[39m\u001b[38;5;124m'\u001b[39m\n\u001b[1;32m      3\u001b[0m weights \u001b[38;5;241m=\u001b[39m load_weights(classes\u001b[38;5;241m=\u001b[39mclasses)\n\u001b[0;32m----> 5\u001b[0m challenge_metric \u001b[38;5;241m=\u001b[39m \u001b[43mcompute_challenge_metric\u001b[49m\u001b[43m(\u001b[49m\n\u001b[1;32m      6\u001b[0m \u001b[43m        \u001b[49m\u001b[43mweights\u001b[49m\u001b[43m,\u001b[49m\u001b[43m \u001b[49m\u001b[43mtargets\u001b[49m\u001b[38;5;241;43m.\u001b[39;49m\u001b[43mdetach\u001b[49m\u001b[43m(\u001b[49m\u001b[43m)\u001b[49m\u001b[38;5;241;43m.\u001b[39;49m\u001b[43mnumpy\u001b[49m\u001b[43m(\u001b[49m\u001b[43m)\u001b[49m\u001b[43m,\u001b[49m\u001b[43m \u001b[49m\u001b[43m(\u001b[49m\u001b[43mlogits2\u001b[49m\u001b[38;5;241;43m>\u001b[39;49m\u001b[38;5;241;43m0.5\u001b[39;49m\u001b[43m)\u001b[49m\u001b[38;5;241;43m.\u001b[39;49m\u001b[43mfloat\u001b[49m\u001b[43m(\u001b[49m\u001b[43m)\u001b[49m\u001b[38;5;241;43m.\u001b[39;49m\u001b[43mdetach\u001b[49m\u001b[43m(\u001b[49m\u001b[43m)\u001b[49m\u001b[38;5;241;43m.\u001b[39;49m\u001b[43mnumpy\u001b[49m\u001b[43m(\u001b[49m\u001b[43m)\u001b[49m\u001b[43m,\u001b[49m\u001b[43m \u001b[49m\u001b[43mclasses\u001b[49m\u001b[43m,\u001b[49m\u001b[43m \u001b[49m\u001b[43msinus_rhythm\u001b[49m\n\u001b[1;32m      7\u001b[0m \u001b[43m    \u001b[49m\u001b[43m)\u001b[49m\n",
      "Input \u001b[0;32mIn [47]\u001b[0m, in \u001b[0;36mcompute_challenge_metric\u001b[0;34m(weights, labels, outputs, classes, sinus_rhythms)\u001b[0m\n\u001b[1;32m     14\u001b[0m \u001b[38;5;66;03m# Compute the observed score.\u001b[39;00m\n\u001b[1;32m     15\u001b[0m A \u001b[38;5;241m=\u001b[39m compute_modified_confusion_matrix(labels, outputs)\n\u001b[0;32m---> 16\u001b[0m observed_score \u001b[38;5;241m=\u001b[39m np\u001b[38;5;241m.\u001b[39mnansum(\u001b[43mweights\u001b[49m\u001b[43m \u001b[49m\u001b[38;5;241;43m*\u001b[39;49m\u001b[43m \u001b[49m\u001b[43mA\u001b[49m)\n\u001b[1;32m     18\u001b[0m \u001b[38;5;66;03m# Compute the score for the model that always chooses the correct label(s).\u001b[39;00m\n\u001b[1;32m     19\u001b[0m correct_outputs \u001b[38;5;241m=\u001b[39m labels\n",
      "\u001b[0;31mValueError\u001b[0m: operands could not be broadcast together with shapes (30,30) (21,21) "
     ]
    }
   ],
   "source": [
    "classes = df_weights_abbr.columns.tolist()\n",
    "sinus_rhythm = 'NSR'\n",
    "weights = load_weights(classes=classes)\n",
    "\n",
    "challenge_metric = compute_challenge_metric(\n",
    "        weights, targets.detach().numpy(), (logits2>0.5).float().detach().numpy(), classes, sinus_rhythm\n",
    "    )"
   ]
  },
  {
   "cell_type": "code",
   "execution_count": 48,
   "id": "76071f91",
   "metadata": {},
   "outputs": [
    {
     "name": "stdout",
     "output_type": "stream",
     "text": [
      "- AUROC and AUPRC...\n",
      "- Accuracy...\n",
      "- F-measure...\n",
      "- F-beta and G-beta measures...\n",
      "Done.\n",
      "auroc = 0.5446597869220151\n",
      "auprc = 0.34138767627208755\n",
      "accuracy = 0.0\n",
      "f_measure = 0.1118140243902439\n",
      "f_beta_measure = 0.1582248500853152\n",
      "g_beta_measure = 0.06870540820216764\n",
      "challenge_metric = 0\n"
     ]
    }
   ],
   "source": [
    "auroc, auprc, _, _, accuracy, f_measure, _, f_beta_measure, g_beta_measure, challenge_metric = \\\n",
    "    evaluate_scores_detailed(targets.detach().numpy(), (logits2>0.5).float().detach().numpy(), logits.detach().numpy())\n",
    "print(\"auroc = {}\\nauprc = {}\\naccuracy = {}\\nf_measure = {}\\nf_beta_measure = {}\\ng_beta_measure = {}\\nchallenge_metric = {}\".format(auroc, auprc, accuracy, f_measure, f_beta_measure, g_beta_measure, challenge_metric))\n"
   ]
  },
  {
   "cell_type": "code",
   "execution_count": 56,
   "id": "1b0cd5ba",
   "metadata": {},
   "outputs": [
    {
     "data": {
      "text/plain": [
       "array([[1.    , 0.5   , 0.475 , 0.3   , 0.475 , 0.4   , 0.3   , 0.3   ,\n",
       "        0.35  , 0.35  , 0.3   , 0.425 , 0.45  , 0.35  , 0.25  , 0.3375,\n",
       "        0.375 , 0.425 , 0.375 , 0.4   , 0.35  , 0.3   , 0.3   , 0.375 ,\n",
       "        0.5   , 0.5   , 0.475 , 0.4   , 0.3375, 0.375 ],\n",
       "       [0.5   , 1.    , 0.475 , 0.3   , 0.475 , 0.4   , 0.3   , 0.3   ,\n",
       "        0.35  , 0.35  , 0.3   , 0.425 , 0.45  , 0.35  , 0.25  , 0.3375,\n",
       "        0.375 , 0.425 , 0.375 , 0.4   , 0.35  , 0.3   , 0.3   , 0.375 ,\n",
       "        0.5   , 0.5   , 0.475 , 0.4   , 0.3375, 0.375 ],\n",
       "       [0.475 , 0.475 , 1.    , 0.325 , 0.475 , 0.425 , 0.325 , 0.325 ,\n",
       "        0.375 , 0.375 , 0.325 , 0.45  , 0.475 , 0.375 , 0.275 , 0.3625,\n",
       "        0.4   , 0.45  , 0.4   , 0.375 , 0.375 , 0.325 , 0.325 , 0.4   ,\n",
       "        0.475 , 0.475 , 0.475 , 0.425 , 0.3625, 0.4   ],\n",
       "       [0.3   , 0.3   , 0.325 , 1.    , 0.325 , 0.4   , 0.5   , 0.5   ,\n",
       "        0.45  , 0.45  , 0.5   , 0.375 , 0.35  , 0.45  , 0.45  , 0.4625,\n",
       "        0.425 , 0.375 , 0.425 , 0.2   , 0.45  , 0.5   , 0.5   , 0.425 ,\n",
       "        0.3   , 0.3   , 0.325 , 0.4   , 0.4625, 0.425 ],\n",
       "       [0.475 , 0.475 , 0.475 , 0.325 , 1.    , 0.425 , 0.325 , 0.325 ,\n",
       "        0.375 , 0.375 , 0.325 , 0.45  , 0.475 , 0.375 , 0.275 , 0.3625,\n",
       "        0.4   , 0.45  , 0.4   , 0.375 , 0.375 , 0.325 , 0.325 , 0.4   ,\n",
       "        0.475 , 0.475 , 1.    , 0.425 , 0.3625, 0.4   ],\n",
       "       [0.4   , 0.4   , 0.425 , 0.4   , 0.425 , 1.    , 0.4   , 0.4   ,\n",
       "        0.45  , 0.45  , 0.4   , 0.475 , 0.45  , 0.45  , 0.35  , 0.4375,\n",
       "        0.475 , 0.475 , 0.475 , 0.3   , 0.45  , 0.4   , 0.4   , 0.475 ,\n",
       "        0.4   , 0.4   , 0.425 , 1.    , 0.4375, 0.475 ],\n",
       "       [0.3   , 0.3   , 0.325 , 0.5   , 0.325 , 0.4   , 1.    , 0.5   ,\n",
       "        0.45  , 0.45  , 0.5   , 0.375 , 0.35  , 0.45  , 0.45  , 0.4625,\n",
       "        0.425 , 0.375 , 0.425 , 0.2   , 0.45  , 0.5   , 0.5   , 0.425 ,\n",
       "        0.3   , 0.3   , 0.325 , 0.4   , 0.4625, 0.425 ],\n",
       "       [0.3   , 0.3   , 0.325 , 0.5   , 0.325 , 0.4   , 0.5   , 1.    ,\n",
       "        0.45  , 0.45  , 0.5   , 0.375 , 0.35  , 0.45  , 0.45  , 0.4625,\n",
       "        0.425 , 0.375 , 0.425 , 0.2   , 0.45  , 0.5   , 0.5   , 0.425 ,\n",
       "        0.3   , 0.3   , 0.325 , 0.4   , 0.4625, 0.425 ],\n",
       "       [0.35  , 0.35  , 0.375 , 0.45  , 0.375 , 0.45  , 0.45  , 0.45  ,\n",
       "        1.    , 0.5   , 0.45  , 0.425 , 0.4   , 0.5   , 0.4   , 0.4875,\n",
       "        0.475 , 0.425 , 0.475 , 0.25  , 0.5   , 0.45  , 0.45  , 0.475 ,\n",
       "        0.35  , 0.35  , 0.375 , 0.45  , 0.4875, 0.475 ],\n",
       "       [0.35  , 0.35  , 0.375 , 0.45  , 0.375 , 0.45  , 0.45  , 0.45  ,\n",
       "        0.5   , 1.    , 0.45  , 0.425 , 0.4   , 0.5   , 0.4   , 0.4875,\n",
       "        0.475 , 0.425 , 0.475 , 0.25  , 0.5   , 0.45  , 0.45  , 0.475 ,\n",
       "        0.35  , 0.35  , 0.375 , 0.45  , 0.4875, 0.475 ],\n",
       "       [0.3   , 0.3   , 0.325 , 0.5   , 0.325 , 0.4   , 0.5   , 0.5   ,\n",
       "        0.45  , 0.45  , 1.    , 0.375 , 0.35  , 0.45  , 0.45  , 0.4625,\n",
       "        0.425 , 0.375 , 0.425 , 0.2   , 0.45  , 0.5   , 0.5   , 0.425 ,\n",
       "        0.3   , 0.3   , 0.325 , 0.4   , 0.4625, 0.425 ],\n",
       "       [0.425 , 0.425 , 0.45  , 0.375 , 0.45  , 0.475 , 0.375 , 0.375 ,\n",
       "        0.425 , 0.425 , 0.375 , 1.    , 0.475 , 0.425 , 0.325 , 0.4125,\n",
       "        0.45  , 0.475 , 0.45  , 0.325 , 0.425 , 0.375 , 0.375 , 0.45  ,\n",
       "        0.425 , 0.425 , 0.45  , 0.475 , 0.4125, 0.45  ],\n",
       "       [0.45  , 0.45  , 0.475 , 0.35  , 0.475 , 0.45  , 0.35  , 0.35  ,\n",
       "        0.4   , 0.4   , 0.35  , 0.475 , 1.    , 0.4   , 0.3   , 0.3875,\n",
       "        0.425 , 0.475 , 0.425 , 0.35  , 0.4   , 0.35  , 0.35  , 0.425 ,\n",
       "        0.45  , 0.45  , 0.475 , 0.45  , 0.3875, 0.425 ],\n",
       "       [0.35  , 0.35  , 0.375 , 0.45  , 0.375 , 0.45  , 0.45  , 0.45  ,\n",
       "        0.5   , 0.5   , 0.45  , 0.425 , 0.4   , 1.    , 0.4   , 0.4875,\n",
       "        0.475 , 0.425 , 0.475 , 0.25  , 0.5   , 0.45  , 0.45  , 0.475 ,\n",
       "        0.35  , 0.35  , 0.375 , 0.45  , 0.4875, 0.475 ],\n",
       "       [0.25  , 0.25  , 0.275 , 0.45  , 0.275 , 0.35  , 0.45  , 0.45  ,\n",
       "        0.4   , 0.4   , 0.45  , 0.325 , 0.3   , 0.4   , 1.    , 0.4125,\n",
       "        0.375 , 0.325 , 0.375 , 0.15  , 0.4   , 0.45  , 0.45  , 0.375 ,\n",
       "        0.25  , 0.25  , 0.275 , 0.35  , 0.4125, 0.375 ],\n",
       "       [0.3375, 0.3375, 0.3625, 0.4625, 0.3625, 0.4375, 0.4625, 0.4625,\n",
       "        0.4875, 0.4875, 0.4625, 0.4125, 0.3875, 0.4875, 0.4125, 1.    ,\n",
       "        0.4625, 0.4125, 0.4625, 0.2375, 0.4875, 0.4625, 0.4625, 0.4625,\n",
       "        0.3375, 0.3375, 0.3625, 0.4375, 1.    , 0.4625],\n",
       "       [0.375 , 0.375 , 0.4   , 0.425 , 0.4   , 0.475 , 0.425 , 0.425 ,\n",
       "        0.475 , 0.475 , 0.425 , 0.45  , 0.425 , 0.475 , 0.375 , 0.4625,\n",
       "        1.    , 0.45  , 0.5   , 0.275 , 0.475 , 0.425 , 0.425 , 0.5   ,\n",
       "        0.375 , 0.375 , 0.4   , 0.475 , 0.4625, 0.5   ],\n",
       "       [0.425 , 0.425 , 0.45  , 0.375 , 0.45  , 0.475 , 0.375 , 0.375 ,\n",
       "        0.425 , 0.425 , 0.375 , 0.475 , 0.475 , 0.425 , 0.325 , 0.4125,\n",
       "        0.45  , 1.    , 0.45  , 0.325 , 0.425 , 0.375 , 0.375 , 0.45  ,\n",
       "        0.425 , 0.425 , 0.45  , 0.475 , 0.4125, 0.45  ],\n",
       "       [0.375 , 0.375 , 0.4   , 0.425 , 0.4   , 0.475 , 0.425 , 0.425 ,\n",
       "        0.475 , 0.475 , 0.425 , 0.45  , 0.425 , 0.475 , 0.375 , 0.4625,\n",
       "        0.5   , 0.45  , 1.    , 0.275 , 0.475 , 0.425 , 0.425 , 0.5   ,\n",
       "        0.375 , 0.375 , 0.4   , 0.475 , 0.4625, 1.    ],\n",
       "       [0.4   , 0.4   , 0.375 , 0.2   , 0.375 , 0.3   , 0.2   , 0.2   ,\n",
       "        0.25  , 0.25  , 0.2   , 0.325 , 0.35  , 0.25  , 0.15  , 0.2375,\n",
       "        0.275 , 0.325 , 0.275 , 1.    , 0.25  , 0.2   , 0.2   , 0.275 ,\n",
       "        0.4   , 0.4   , 0.375 , 0.3   , 0.2375, 0.275 ],\n",
       "       [0.35  , 0.35  , 0.375 , 0.45  , 0.375 , 0.45  , 0.45  , 0.45  ,\n",
       "        0.5   , 0.5   , 0.45  , 0.425 , 0.4   , 0.5   , 0.4   , 0.4875,\n",
       "        0.475 , 0.425 , 0.475 , 0.25  , 1.    , 0.45  , 0.45  , 0.475 ,\n",
       "        0.35  , 0.35  , 0.375 , 0.45  , 0.4875, 0.475 ],\n",
       "       [0.3   , 0.3   , 0.325 , 0.5   , 0.325 , 0.4   , 0.5   , 0.5   ,\n",
       "        0.45  , 0.45  , 0.5   , 0.375 , 0.35  , 0.45  , 0.45  , 0.4625,\n",
       "        0.425 , 0.375 , 0.425 , 0.2   , 0.45  , 1.    , 0.5   , 0.425 ,\n",
       "        0.3   , 0.3   , 0.325 , 0.4   , 0.4625, 0.425 ],\n",
       "       [0.3   , 0.3   , 0.325 , 0.5   , 0.325 , 0.4   , 0.5   , 0.5   ,\n",
       "        0.45  , 0.45  , 0.5   , 0.375 , 0.35  , 0.45  , 0.45  , 0.4625,\n",
       "        0.425 , 0.375 , 0.425 , 0.2   , 0.45  , 0.5   , 1.    , 0.425 ,\n",
       "        0.3   , 0.3   , 0.325 , 0.4   , 0.4625, 0.425 ],\n",
       "       [0.375 , 0.375 , 0.4   , 0.425 , 0.4   , 0.475 , 0.425 , 0.425 ,\n",
       "        0.475 , 0.475 , 0.425 , 0.45  , 0.425 , 0.475 , 0.375 , 0.4625,\n",
       "        0.5   , 0.45  , 0.5   , 0.275 , 0.475 , 0.425 , 0.425 , 1.    ,\n",
       "        0.375 , 0.375 , 0.4   , 0.475 , 0.4625, 0.5   ],\n",
       "       [0.5   , 0.5   , 0.475 , 0.3   , 0.475 , 0.4   , 0.3   , 0.3   ,\n",
       "        0.35  , 0.35  , 0.3   , 0.425 , 0.45  , 0.35  , 0.25  , 0.3375,\n",
       "        0.375 , 0.425 , 0.375 , 0.4   , 0.35  , 0.3   , 0.3   , 0.375 ,\n",
       "        1.    , 0.5   , 0.475 , 0.4   , 0.3375, 0.375 ],\n",
       "       [0.5   , 0.5   , 0.475 , 0.3   , 0.475 , 0.4   , 0.3   , 0.3   ,\n",
       "        0.35  , 0.35  , 0.3   , 0.425 , 0.45  , 0.35  , 0.25  , 0.3375,\n",
       "        0.375 , 0.425 , 0.375 , 0.4   , 0.35  , 0.3   , 0.3   , 0.375 ,\n",
       "        0.5   , 1.    , 0.475 , 0.4   , 0.3375, 0.375 ],\n",
       "       [0.475 , 0.475 , 0.475 , 0.325 , 1.    , 0.425 , 0.325 , 0.325 ,\n",
       "        0.375 , 0.375 , 0.325 , 0.45  , 0.475 , 0.375 , 0.275 , 0.3625,\n",
       "        0.4   , 0.45  , 0.4   , 0.375 , 0.375 , 0.325 , 0.325 , 0.4   ,\n",
       "        0.475 , 0.475 , 1.    , 0.425 , 0.3625, 0.4   ],\n",
       "       [0.4   , 0.4   , 0.425 , 0.4   , 0.425 , 1.    , 0.4   , 0.4   ,\n",
       "        0.45  , 0.45  , 0.4   , 0.475 , 0.45  , 0.45  , 0.35  , 0.4375,\n",
       "        0.475 , 0.475 , 0.475 , 0.3   , 0.45  , 0.4   , 0.4   , 0.475 ,\n",
       "        0.4   , 0.4   , 0.425 , 1.    , 0.4375, 0.475 ],\n",
       "       [0.3375, 0.3375, 0.3625, 0.4625, 0.3625, 0.4375, 0.4625, 0.4625,\n",
       "        0.4875, 0.4875, 0.4625, 0.4125, 0.3875, 0.4875, 0.4125, 1.    ,\n",
       "        0.4625, 0.4125, 0.4625, 0.2375, 0.4875, 0.4625, 0.4625, 0.4625,\n",
       "        0.3375, 0.3375, 0.3625, 0.4375, 1.    , 0.4625],\n",
       "       [0.375 , 0.375 , 0.4   , 0.425 , 0.4   , 0.475 , 0.425 , 0.425 ,\n",
       "        0.475 , 0.475 , 0.425 , 0.45  , 0.425 , 0.475 , 0.375 , 0.4625,\n",
       "        0.5   , 0.45  , 1.    , 0.275 , 0.475 , 0.425 , 0.425 , 0.5   ,\n",
       "        0.375 , 0.375 , 0.4   , 0.475 , 0.4625, 1.    ]])"
      ]
     },
     "execution_count": 56,
     "metadata": {},
     "output_type": "execute_result"
    }
   ],
   "source": [
    "weights"
   ]
  }
 ],
 "metadata": {
  "kernelspec": {
   "display_name": "Python [conda env:root] *",
   "language": "python",
   "name": "conda-root-py"
  },
  "language_info": {
   "codemirror_mode": {
    "name": "ipython",
    "version": 3
   },
   "file_extension": ".py",
   "mimetype": "text/x-python",
   "name": "python",
   "nbconvert_exporter": "python",
   "pygments_lexer": "ipython3",
   "version": "3.8.13"
  },
  "latex_envs": {
   "LaTeX_envs_menu_present": true,
   "autoclose": false,
   "autocomplete": true,
   "bibliofile": "biblio.bib",
   "cite_by": "apalike",
   "current_citInitial": 1,
   "eqLabelWithNumbers": true,
   "eqNumInitial": 1,
   "hotkeys": {
    "equation": "Ctrl-E",
    "itemize": "Ctrl-I"
   },
   "labels_anchors": false,
   "latex_user_defs": false,
   "report_style_numbering": false,
   "user_envs_cfg": false
  },
  "toc": {
   "base_numbering": 1,
   "nav_menu": {},
   "number_sections": true,
   "sideBar": true,
   "skip_h1_title": false,
   "title_cell": "Table of Contents",
   "title_sidebar": "Contents",
   "toc_cell": false,
   "toc_position": {},
   "toc_section_display": true,
   "toc_window_display": false
  }
 },
 "nbformat": 4,
 "nbformat_minor": 5
}
