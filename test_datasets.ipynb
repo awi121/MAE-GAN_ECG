{
 "cells": [
  {
   "cell_type": "code",
   "execution_count": 1,
   "id": "7c80a7a6",
   "metadata": {},
   "outputs": [],
   "source": [
    "import os\n",
    "import sys\n",
    "from collections import Counter\n",
    "from typing import List, Tuple, Type\n",
    "from glob import glob\n",
    "import pandas as pd\n",
    "from scipy import io\n",
    "import wfdb\n",
    "import numpy as np\n",
    "from tqdm import tqdm\n",
    "import pickle\n",
    "from iterstrat.ml_stratifiers import MultilabelStratifiedShuffleSplit"
   ]
  },
  {
   "cell_type": "code",
   "execution_count": 2,
   "id": "8f03911c",
   "metadata": {},
   "outputs": [],
   "source": [
    "def process_label(df: pd.DataFrame) -> np.ndarray:\n",
    "    labels = np.zeros([df.shape[0], 9])\n",
    "\n",
    "    labels_first = df.First_label.values\n",
    "    labels_second = df.Second_label.values\n",
    "    labels_third = df.Third_label.values\n",
    "\n",
    "    # labels = [1 - 9] -> label_index = [0 - 8]\n",
    "    for i in range(df.shape[0]):\n",
    "        # Validate: normal labeled sample has no other labels.\n",
    "        if labels_first[i] == 1:\n",
    "            assert(np.isnan(labels_second[i]) \\\n",
    "                   and np.isnan(labels_third[i]))\n",
    "\n",
    "        labels[i, labels_first[i] - 1] = 1\n",
    "        if not np.isnan(labels_second[i]):\n",
    "            labels[i, int(labels_second[i]) - 1] = 1\n",
    "        if not np.isnan(labels_third[i]):\n",
    "            labels[i, int(labels_third[i]) - 1] = 1\n",
    "    return labels"
   ]
  },
  {
   "cell_type": "code",
   "execution_count": 3,
   "id": "8444d9eb",
   "metadata": {},
   "outputs": [],
   "source": [
    "load_dir = '/home/gridsan/ybo/advaug/data/cpsc2018/raw'\n",
    "cpsc_reference = \"TrainingSet3/REFERENCE.csv\"\n",
    "reference_file = os.path.join(load_dir, cpsc_reference)\n",
    "filelist_df = pd.read_csv(reference_file)\n",
    "signals = filelist_df.Recording.values\n",
    "labels = process_label(filelist_df)"
   ]
  },
  {
   "cell_type": "code",
   "execution_count": 4,
   "id": "ecfa4802",
   "metadata": {
    "scrolled": true
   },
   "outputs": [],
   "source": [
    "msss_1 = MultilabelStratifiedShuffleSplit(\n",
    "    n_splits=1, test_size=0.2, random_state=1)\n",
    "\n",
    "for train_idx, test_idx in msss_1.split(signals, labels):\n",
    "    pass\n",
    "\n",
    "msss_2 = MultilabelStratifiedShuffleSplit(\n",
    "    n_splits=1, test_size=0.5, random_state=1)\n",
    "\n",
    "for valid_idx, test_idx in msss_2.split(signals[test_idx], labels[test_idx]):\n",
    "    pass\n",
    "\n",
    "f_train, f_valid, f_test =\\\n",
    "    signals[train_idx], signals[valid_idx], signals[test_idx]\n",
    "y_train, y_valid, y_test =\\\n",
    "    labels[train_idx], labels[valid_idx], labels[test_idx]"
   ]
  },
  {
   "cell_type": "code",
   "execution_count": 5,
   "id": "85f0390c",
   "metadata": {},
   "outputs": [],
   "source": [
    "def open_ecg_files(target_files):\n",
    "    signals = []\n",
    "    for target_file in tqdm(target_files):\n",
    "        target_path = os.path.join(load_dir, \"*\", target_file+\".mat\")\n",
    "        mat_file = glob(target_path)[0]\n",
    "        record = io.loadmat(mat_file) # [`Sex`, `Age`, `ECG`]\n",
    "        signals.append(record[\"ECG\"][0][0][2]) # num_lead = 12, sequence_length\n",
    "    return signals"
   ]
  },
  {
   "cell_type": "code",
   "execution_count": 6,
   "id": "f24e4dfa",
   "metadata": {},
   "outputs": [
    {
     "name": "stderr",
     "output_type": "stream",
     "text": [
      "100%|██████████| 5490/5490 [02:50<00:00, 32.18it/s]\n",
      "100%|██████████| 697/697 [00:15<00:00, 44.07it/s]\n",
      "100%|██████████| 690/690 [00:15<00:00, 43.42it/s]\n"
     ]
    }
   ],
   "source": [
    "X_train = open_ecg_files(f_train)\n",
    "X_val = open_ecg_files(f_valid)\n",
    "X_test = open_ecg_files(f_test)"
   ]
  },
  {
   "cell_type": "code",
   "execution_count": 9,
   "id": "c1884d4c",
   "metadata": {},
   "outputs": [],
   "source": [
    "def align_signal_length(signals):\n",
    "    aligned_signals = []\n",
    "    for signal in signals:\n",
    "        signal_length = signal.shape[-1]\n",
    "        if signal_length > 5000:\n",
    "            signal = signal[:,:5000]\n",
    "        elif signal_length < 5000:\n",
    "            pad_length = 5000 - signal_length\n",
    "            pad = np.zeros([pad_length, signal.shape[1]])\n",
    "            signal = np.concatenate([pad, signal], axis=0)\n",
    "        aligned_signals.append(signal)\n",
    "#     aligned_signals = np.stack(aligned_signals)\n",
    "    return aligned_signals"
   ]
  },
  {
   "cell_type": "code",
   "execution_count": 10,
   "id": "13670d4f",
   "metadata": {},
   "outputs": [],
   "source": [
    "X_train_aligned = align_signal_length(X_train)\n",
    "X_val_aligned = align_signal_length(X_val)\n",
    "X_test_aligned = align_signal_length(X_test)"
   ]
  },
  {
   "cell_type": "code",
   "execution_count": 27,
   "id": "7f5cf2f9",
   "metadata": {},
   "outputs": [],
   "source": [
    "seed = 2\n",
    "save_path = \"/home/gridsan/ybo/advaug/data/cpsc2018/seed{}\".format(seed)\n",
    "if not os.path.exists(save_path):\n",
    "    os.makedirs(save_path)"
   ]
  },
  {
   "cell_type": "code",
   "execution_count": 26,
   "id": "0d5b54e9",
   "metadata": {},
   "outputs": [
    {
     "ename": "FileNotFoundError",
     "evalue": "[Errno 2] No such file or directory: '/home/gridsan/ybo/advaug/data/cpsc2018/seed2/train.pkl'",
     "output_type": "error",
     "traceback": [
      "\u001b[0;31m---------------------------------------------------------------------------\u001b[0m",
      "\u001b[0;31mFileNotFoundError\u001b[0m                         Traceback (most recent call last)",
      "Input \u001b[0;32mIn [26]\u001b[0m, in \u001b[0;36m<cell line: 1>\u001b[0;34m()\u001b[0m\n\u001b[0;32m----> 1\u001b[0m \u001b[38;5;28;01mwith\u001b[39;00m \u001b[38;5;28;43mopen\u001b[39;49m\u001b[43m(\u001b[49m\u001b[38;5;124;43m\"\u001b[39;49m\u001b[38;5;124;43m/home/gridsan/ybo/advaug/data/cpsc2018/seed\u001b[39;49m\u001b[38;5;132;43;01m{}\u001b[39;49;00m\u001b[38;5;124;43m/train.pkl\u001b[39;49m\u001b[38;5;124;43m\"\u001b[39;49m\u001b[38;5;241;43m.\u001b[39;49m\u001b[43mformat\u001b[49m\u001b[43m(\u001b[49m\u001b[43mseed\u001b[49m\u001b[43m)\u001b[49m\u001b[43m,\u001b[49m\u001b[38;5;124;43m'\u001b[39;49m\u001b[38;5;124;43mwb\u001b[39;49m\u001b[38;5;124;43m'\u001b[39;49m\u001b[43m)\u001b[49m \u001b[38;5;28;01mas\u001b[39;00m f:\n\u001b[1;32m      2\u001b[0m     pickle\u001b[38;5;241m.\u001b[39mdump(X_train_aligned,f)\n",
      "\u001b[0;31mFileNotFoundError\u001b[0m: [Errno 2] No such file or directory: '/home/gridsan/ybo/advaug/data/cpsc2018/seed2/train.pkl'"
     ]
    }
   ],
   "source": [
    "with open(\"/home/gridsan/ybo/advaug/data/cpsc2018/train.pkl\",'wb') as f:\n",
    "    pickle.dump(X_train_aligned,f)\n",
    "with open(\"/home/gridsan/ybo/advaug/data/cpsc2018/val.pkl\",'wb') as f:\n",
    "    pickle.dump(X_val_aligned,f)\n",
    "with open(\"/home/gridsan/ybo/advaug/data/cpsc2018/test.pkl\",'wb') as f:\n",
    "    pickle.dump(X_test_aligned,f)"
   ]
  },
  {
   "cell_type": "code",
   "execution_count": 17,
   "id": "9edefcd4",
   "metadata": {},
   "outputs": [
    {
     "data": {
      "text/plain": [
       "[<matplotlib.lines.Line2D at 0x7fbc402460a0>]"
      ]
     },
     "execution_count": 17,
     "metadata": {},
     "output_type": "execute_result"
    },
    {
     "data": {
      "image/png": "[encoded data removed]",
      "text/plain": [
       "<Figure size 432x288 with 1 Axes>"
      ]
     },
     "metadata": {
      "needs_background": "light"
     },
     "output_type": "display_data"
    }
   ],
   "source": [
    "from matplotlib import pyplot as plt\n",
    "\n",
    "plt.plot(X_train_aligned[0][0])"
   ]
  },
  {
   "cell_type": "code",
   "execution_count": 7,
   "id": "a551de51",
   "metadata": {},
   "outputs": [],
   "source": [
    "# with open(\"/home/gridsan/ybo/CLOCS/data/chapman/contrastive_ss/leads_12/frames_phases_chapman.pkl\",'rb') as f:\n",
    "#             input_array = pickle.load(f)\n",
    "with open(\"/home/gridsan/ybo/CLOCS/data/chapman/contrastive_ss/leads_12/labels_phases_chapman.pkl\",'rb') as f:\n",
    "            labels_array = pickle.load(f)"
   ]
  },
  {
   "cell_type": "code",
   "execution_count": 10,
   "id": "e8847cbe",
   "metadata": {},
   "outputs": [
    {
     "data": {
      "text/plain": [
       "array([[0, 0, 0, ..., 0, 0, 0],\n",
       "       [2, 2, 2, ..., 2, 2, 2],\n",
       "       [1, 1, 1, ..., 1, 1, 1],\n",
       "       ...,\n",
       "       [1, 1, 1, ..., 1, 1, 1],\n",
       "       [3, 3, 3, ..., 3, 3, 3],\n",
       "       [1, 1, 1, ..., 1, 1, 1]])"
      ]
     },
     "execution_count": 10,
     "metadata": {},
     "output_type": "execute_result"
    }
   ],
   "source": [
    "x = input_array['ecg'][1]['train']['All Terms']\n",
    "y = labels_array['ecg'][1]['train']['All Terms']\n",
    "y"
   ]
  },
  {
   "cell_type": "code",
   "execution_count": 13,
   "id": "a3d17111",
   "metadata": {},
   "outputs": [],
   "source": [
    "from scipy.signal import resample\n",
    "from sklearn.preprocessing import LabelEncoder\n",
    "from tqdm import tqdm\n",
    "enc = LabelEncoder()"
   ]
  },
  {
   "cell_type": "code",
   "execution_count": 26,
   "id": "24a8ab1f",
   "metadata": {},
   "outputs": [
    {
     "name": "stderr",
     "output_type": "stream",
     "text": [
      "/state/partition1/slurm_tmp/19172587.0.0/ipykernel_60356/1335082236.py:10: FutureWarning: In a future version of pandas all arguments of concat except for the argument 'objs' will be keyword-only.\n",
      "  database_with_dates = pd.concat((database,dates),1)\n"
     ]
    },
    {
     "data": {
      "text/plain": [
       "Dates      Rhythm\n",
       "All Terms  SB        3889\n",
       "           GSVT      2307\n",
       "           AFIB      2225\n",
       "           SR        2225\n",
       "Name: Rhythm, dtype: int64"
      ]
     },
     "execution_count": 26,
     "metadata": {},
     "output_type": "execute_result"
    }
   ],
   "source": [
    "dataset = 'chapman'\n",
    "basepath = '/home/gridsan/ybo/CLOCS/data/chapman/'\n",
    "trial = 'contrastive_ms' #'contrastive_ss' # '' | 'contrastive_ms' | 'contrastive_ml' | 'contrastive_msml' | 'contrastive_ss'\n",
    "\n",
    "files = os.listdir(os.path.join(basepath,'ECGDataDenoised'))\n",
    "database = pd.read_csv(os.path.join(basepath,'Diagnostics.csv'))\n",
    "dates = database['FileName'].str.split('_',expand=True).iloc[:,1]\n",
    "dates.name = 'Dates'\n",
    "dates = pd.to_datetime(dates)\n",
    "database_with_dates = pd.concat((database,dates),1)\n",
    "#\"\"\" Unique Dates in Database \"\"\"\n",
    "#enc.fit(dates)\n",
    "\n",
    "\"\"\" Combine Rhythm Labels \"\"\"\n",
    "old_rhythms = ['AF','SVT','ST','AT','AVNRT','AVRT','SAAWR','SI','SA']\n",
    "new_rhythms = ['AFIB','GSVT','GSVT','GSVT','GSVT','GSVT','GSVT','SR','SR']\n",
    "database_with_dates['Rhythm'] = database_with_dates['Rhythm'].replace(old_rhythms,new_rhythms)\n",
    "unique_labels = database_with_dates['Rhythm'].value_counts().index.tolist()\n",
    "enc.fit(unique_labels)\n",
    "\n",
    "\"\"\" Combine Dates \"\"\"\n",
    "def combine_dates(date):\n",
    "    new_dates = ['All Terms']#use this for continual learning dataset ['Term 1','Term 2','Term 3']\n",
    "    cutoff_dates = ['2019-01-01']##use this for continual learning dataset ['2018-01-16','2018-02-09','2018-12-30']\n",
    "    cutoff_dates = [pd.Timestamp(date) for date in cutoff_dates]\n",
    "    for t,cutoff_date in enumerate(cutoff_dates):\n",
    "        if date < cutoff_date:\n",
    "            new_date = new_dates[t]\n",
    "            break\n",
    "    return new_date\n",
    "database_with_dates['Dates'] = database_with_dates['Dates'].apply(combine_dates)\n",
    "\n",
    "#%%\n",
    "\"\"\" Look at Label Composition \"\"\"\n",
    "#\"\"\" GroupBy output can be treated as an interable \"\"\"\n",
    "groupby_dates = database_with_dates.groupby('Dates')\n",
    "groupby_dates['Rhythm'].value_counts()"
   ]
  },
  {
   "cell_type": "code",
   "execution_count": 32,
   "id": "a9a8472c",
   "metadata": {},
   "outputs": [],
   "source": [
    "phases = ['train','val','test']\n",
    "phase_fractions = [0.8, 0.1, 0.1]\n",
    "phase_fractions_dict = dict(zip(phases,phase_fractions))\n",
    "\n",
    "term_phase_patients = dict()\n",
    "term = \"All Terms\"\n",
    "term_phase_patients[term] = dict()\n",
    "term_patients = database_with_dates['FileName'][database_with_dates['Dates'] == term]\n",
    "random_term_patients = term_patients.sample(frac=1,random_state=0)\n",
    "start = 0\n",
    "for phase,fraction in phase_fractions_dict.items():\n",
    "    if phase == 'test':\n",
    "        phase_patients = random_term_patients.iloc[start:].tolist() #to avoid missing last patient due to rounding\n",
    "    else:\n",
    "        npatients = int(fraction*len(term_patients))\n",
    "        phase_patients = random_term_patients.iloc[start:start+npatients].tolist()\n",
    "    term_phase_patients[term][phase] = phase_patients\n",
    "    start += npatients"
   ]
  },
  {
   "cell_type": "code",
   "execution_count": 70,
   "id": "7687fe45",
   "metadata": {},
   "outputs": [
    {
     "data": {
      "text/plain": [
       "6121    MUSE_20180113_135045_85000\n",
       "5173    MUSE_20180113_075515_49000\n",
       "7052    MUSE_20180113_131421_44000\n",
       "3759    MUSE_20180209_121003_67000\n",
       "6526    MUSE_20180209_173904_56000\n",
       "                   ...            \n",
       "9225    MUSE_20180113_174454_52000\n",
       "4859    MUSE_20180112_124508_91000\n",
       "3264    MUSE_20180118_131538_09000\n",
       "9845    MUSE_20180113_122543_14000\n",
       "2732    MUSE_20180210_122936_38000\n",
       "Name: FileName, Length: 10646, dtype: object"
      ]
     },
     "execution_count": 70,
     "metadata": {},
     "output_type": "execute_result"
    }
   ],
   "source": [
    "random_term_patients"
   ]
  },
  {
   "cell_type": "code",
   "execution_count": 41,
   "id": "9e935083",
   "metadata": {},
   "outputs": [
    {
     "name": "stderr",
     "output_type": "stream",
     "text": [
      "  0%|          | 0/6387 [00:00<?, ?it/s]\n",
      "  0%|          | 0/2129 [00:00<?, ?it/s]\n",
      "  0%|          | 0/2130 [00:00<?, ?it/s]\n"
     ]
    }
   ],
   "source": [
    "sampling_rate = 500\n",
    "modality_list = ['ecg']\n",
    "fraction_list = [1]\n",
    "leads = ['I','II','III','aVR','aVL','aVF','V1','V2','V3','V4','V5','V6']\n",
    "desired_leads = ['I','II','III','aVR','aVL','aVF','V1','V2','V3','V4','V5','V6']\n",
    "inputs_dict = dict()\n",
    "outputs_dict = dict()\n",
    "pids = dict()\n",
    "\n",
    "for phase in phases:\n",
    "    current_patients = term_phase_patients[term][phase]\n",
    "    current_inputs = []\n",
    "    current_outputs = []\n",
    "    current_pids = []\n",
    "    for patient in tqdm(current_patients):\n",
    "        filename = patient + '.csv'\n",
    "        data = pd.read_csv(os.path.join(basepath,'ECGDataDenoised',filename)) #SxL\n",
    "        \n",
    "        resampling_length = 5000\n",
    "        data_resampled = resample(data,resampling_length)\n",
    "        data_resampled = data_resampled.T #12x2500\n",
    "        lead_indices = np.where(np.in1d(leads,desired_leads))[0]\n",
    "        data_resampled = data_resampled[lead_indices,:] #12x2500\n",
    "        \n",
    "        label = database_with_dates['Rhythm'][database_with_dates['FileName']==patient]\n",
    "        encoded_label = enc.transform(label).item()\n",
    "\n",
    "        current_inputs.append(data_resampled) #might need to change to '.extend' instead of '.append' to end up with 2D matrix at the end. \n",
    "        current_outputs.append([encoded_label for _ in range(data_resampled.shape[0])])\n",
    "        current_pids.append([patient for _ in range(data_resampled.shape[0])])\n",
    "        break\n",
    "    inputs_dict[phase] = np.array(current_inputs)\n",
    "    outputs_dict[phase] = np.array(current_outputs)\n",
    "    pids[phase] = np.array(current_pids)"
   ]
  },
  {
   "cell_type": "code",
   "execution_count": 52,
   "id": "5c9ef26e",
   "metadata": {},
   "outputs": [],
   "source": [
    "save_path = \"/home/gridsan/ybo/advaug/data/chapman/\"\n",
    "inputs_dict['train'].dump(os.path.join(save_path, \"X_train.npy\"), protocol=4)"
   ]
  },
  {
   "cell_type": "code",
   "execution_count": 54,
   "id": "758289c3",
   "metadata": {},
   "outputs": [
    {
     "data": {
      "text/plain": [
       "(1, 12, 5000)"
      ]
     },
     "execution_count": 54,
     "metadata": {},
     "output_type": "execute_result"
    }
   ],
   "source": [
    "y = np.load(\"/home/gridsan/ybo/advaug/data/chapman/y_train.npy\", allow_pickle=True)\n",
    "x = np.load(\"/home/gridsan/ybo/advaug/data/chapman/X_train.npy\", allow_pickle=True)"
   ]
  },
  {
   "cell_type": "code",
   "execution_count": 63,
   "id": "4da3c76d",
   "metadata": {},
   "outputs": [
    {
     "data": {
      "text/plain": [
       "(2, 12, 5000)"
      ]
     },
     "execution_count": 63,
     "metadata": {},
     "output_type": "execute_result"
    }
   ],
   "source": [
    "g = np.empty([0, 12, 5000])\n",
    "g = np.append(g, x, axis=0)\n",
    "g = np.append(g, x, axis=0)\n",
    "g.shape"
   ]
  },
  {
   "cell_type": "code",
   "execution_count": 72,
   "id": "f5a18071",
   "metadata": {},
   "outputs": [],
   "source": [
    "import numpy as np\n",
    "import os\n",
    "import torch\n",
    "from torch.utils.data import Dataset, DataLoader\n",
    "from torchvision import transforms, utils\n",
    "from itertools import repeat"
   ]
  },
  {
   "cell_type": "code",
   "execution_count": 115,
   "id": "fa895fe9",
   "metadata": {},
   "outputs": [],
   "source": [
    "class Normalize: \n",
    "    def __call__(self, x):\n",
    "        if isinstance(x, np.ndarray):\n",
    "            x = (x - np.min(x))/(np.max(x) - np.min(x) + 1e-8)\n",
    "        elif isinstance(x,torch.Tensor):\n",
    "            x = (x - torch.min(x))/(torch.max(x) - torch.min(x) + 1e-8)\n",
    "        return x\n",
    "    \n",
    "class ToTensor1D(object):\n",
    "    def __call__(self, sample):\n",
    "        return torch.from_numpy(sample)"
   ]
  },
  {
   "cell_type": "code",
   "execution_count": 116,
   "id": "f4b14772",
   "metadata": {},
   "outputs": [],
   "source": [
    "class CollatedTransform:\n",
    "    \"\"\"Adds callable base class to implement different transformation pipelines.\"\"\"\n",
    "\n",
    "    def __init__(self, augmentations):\n",
    "        self.augmentations = augmentations.split(\"_\")\n",
    "        self.transform = transforms.Compose([])\n",
    "\n",
    "        if 'gaussian' in self.augmentations:\n",
    "            self.transform = transforms.Compose([self.transform, GaussianNoise])\n",
    "\n",
    "        self.transform = transforms.Compose([self.transform, \n",
    "                                            ToTensor1D(),\n",
    "                                            Normalize()])\n",
    "\n",
    "    def __call__(self, x):\n",
    "        return self.transform(x)\n",
    "\n",
    "    def __repr__(self):\n",
    "        return str(self.transform)"
   ]
  },
  {
   "cell_type": "code",
   "execution_count": 139,
   "id": "ea22c8bb",
   "metadata": {},
   "outputs": [],
   "source": [
    "class DatasetWrapper(Dataset):\n",
    "\n",
    "    def __init__(self, db_dir, trial, phase, seed, positive_pairing=None, augmentations=None, nleads=12):\n",
    "        self.db_dir = db_dir\n",
    "        self.positive_pairing = positive_pairing\n",
    "        self.transform = CollatedTransform(augmentations)\n",
    "        self.normalize = CollatedTransform(\"_\")\n",
    "        self.nleads = nleads\n",
    "        self.trial = trial\n",
    "        self.seed = seed \n",
    "        self.phase = phase\n",
    "\n",
    "        self.load_data()\n",
    "\n",
    "    def load_data(self):\n",
    "        self.X = np.load(os.path.join(self.db_dir, \"seed{}/X_{}.npy\".format(self.seed, self.phase)), allow_pickle=True)\n",
    "        self.y = np.load(os.path.join(self.db_dir, \"seed{}/y_{}.npy\".format(self.seed, self.phase)), allow_pickle=True)\n",
    "\n",
    "    def __len__(self):\n",
    "        return len(self.y)\n",
    "\n",
    "    def __getitem__(self, idx):\n",
    "        sample, label = self.X[idx], self.y[idx]\n",
    "\n",
    "        if self.trial == 'transfer':\n",
    "            return self.normalize(sample), label\n",
    "\n",
    "        elif self.trial == \"pretrain\":\n",
    "            nsamples = sample.shape[-1]\n",
    "            if self.positive_pairing == 'CMSC': \n",
    "                combined_sample = torch.empty(self.nleads, nsamples, 2)\n",
    "            elif self.positive_pairing == 'CMLC': \n",
    "                combined_sample = torch.empty(1, nsamples, self.nleads)\n",
    "            elif self.positive_pairing == 'CMSMLC': \n",
    "                combined_sample = torch.empty(self.nleads, nsamples, 2)\n",
    "            elif self.positive_pairing == 'PCLR': \n",
    "                combined_sample = torch.empty(self.nleads, nsamples, 2)\n",
    "            else: \n",
    "                combined_sample = torch.empty(self.nleads, nsamples, 2)\n",
    "                combined_sample[:,:,0] = self.normalize(sample)\n",
    "                combined_sample[:,:,1] = self.transform(sample)\n",
    "            \n",
    "            return combined_sample, label"
   ]
  },
  {
   "cell_type": "code",
   "execution_count": 132,
   "id": "c7e5aeae",
   "metadata": {},
   "outputs": [],
   "source": [
    "d = DatasetWrapper(db_dir=\"/home/gridsan/ybo/advaug/data/chapman\", trial=\"transfer\", phase=\"train\", seed=1, positive_pairing=None, augmentations=\"normalize\", nleads=12)"
   ]
  },
  {
   "cell_type": "code",
   "execution_count": 133,
   "id": "814a6b57",
   "metadata": {},
   "outputs": [],
   "source": [
    "sample, label = d.__getitem__(0)"
   ]
  },
  {
   "cell_type": "code",
   "execution_count": 145,
   "id": "a3afbb76",
   "metadata": {},
   "outputs": [
    {
     "data": {
      "text/plain": [
       "(60000,)"
      ]
     },
     "execution_count": 145,
     "metadata": {},
     "output_type": "execute_result"
    }
   ],
   "source": [
    "test = np.empty([0, 12, 5000])\n",
    "test = np.append(test, sample)\n",
    "test.shape"
   ]
  },
  {
   "cell_type": "code",
   "execution_count": 134,
   "id": "cd65b553",
   "metadata": {},
   "outputs": [
    {
     "data": {
      "image/png": "[encoded data removed]",
      "text/plain": [
       "<Figure size 432x288 with 1 Axes>"
      ]
     },
     "metadata": {
      "needs_background": "light"
     },
     "output_type": "display_data"
    }
   ],
   "source": [
    "from matplotlib import pyplot as plt\n",
    "\n",
    "plt.plot(sample[0])\n",
    "plt.show()"
   ]
  },
  {
   "cell_type": "code",
   "execution_count": 140,
   "id": "c26a05ae",
   "metadata": {},
   "outputs": [],
   "source": [
    "from torch.utils.data import DataLoader, random_split\n",
    "\n",
    "from pytorch_lightning import LightningDataModule, LightningModule, Trainer\n",
    "import pytorch_lightning as pl\n",
    "\n",
    "class ECGDataModule(LightningDataModule):\n",
    "\n",
    "    def __init__(self, db_dir, batch_size, trial, seed, positive_pairing, augmentations, nleads, do_test=False):\n",
    "        super().__init__()\n",
    "        self.data_train = DatasetWrapper(db_dir, trial, \"train\", seed, positive_pairing=positive_pairing, augmentations=augmentations, nleads=nleads)\n",
    "        self.data_val = DatasetWrapper(db_dir, trial, \"val\", seed, positive_pairing=positive_pairing, augmentations=augmentations, nleads=nleads)\n",
    "        if do_test:\n",
    "            self.data_test = DatasetWrapper(db_dir, trial, \"test\", seed, positive_pairing=positive_pairing, augmentations=augmentations, nleads=nleads)\n",
    "\n",
    "        self.batch_size = batch_size\n",
    " \n",
    "    def train_dataloader(self):\n",
    "        '''returns training dataloader'''\n",
    "        return DataLoader(self.data_train, batch_size=self.batch_size)\n",
    "\n",
    "    def val_dataloader(self):\n",
    "        '''returns validation dataloader'''\n",
    "        return DataLoader(self.data_val, batch_size=self.batch_size)\n",
    "\n",
    "    def test_dataloader(self):\n",
    "        '''returns test dataloader'''\n",
    "        return DataLoader(self.data_test, batch_size=self.batch_size)"
   ]
  },
  {
   "cell_type": "code",
   "execution_count": 141,
   "id": "6e651673",
   "metadata": {},
   "outputs": [],
   "source": [
    "datamodule = ECGDataModule(db_dir=\"/home/gridsan/ybo/advaug/data/chapman\", batch_size=32, trial=\"transfer\", seed=1, positive_pairing=None, augmentations=\"normalize\", nleads=12)"
   ]
  }
 ],
 "metadata": {
  "kernelspec": {
   "display_name": "Python [conda env:root] *",
   "language": "python",
   "name": "conda-root-py"
  },
  "language_info": {
   "codemirror_mode": {
    "name": "ipython",
    "version": 3
   },
   "file_extension": ".py",
   "mimetype": "text/x-python",
   "name": "python",
   "nbconvert_exporter": "python",
   "pygments_lexer": "ipython3",
   "version": "3.8.13"
  },
  "latex_envs": {
   "LaTeX_envs_menu_present": true,
   "autoclose": false,
   "autocomplete": true,
   "bibliofile": "biblio.bib",
   "cite_by": "apalike",
   "current_citInitial": 1,
   "eqLabelWithNumbers": true,
   "eqNumInitial": 1,
   "hotkeys": {
    "equation": "Ctrl-E",
    "itemize": "Ctrl-I"
   },
   "labels_anchors": false,
   "latex_user_defs": false,
   "report_style_numbering": false,
   "user_envs_cfg": false
  },
  "toc": {
   "base_numbering": 1,
   "nav_menu": {},
   "number_sections": true,
   "sideBar": true,
   "skip_h1_title": false,
   "title_cell": "Table of Contents",
   "title_sidebar": "Contents",
   "toc_cell": false,
   "toc_position": {},
   "toc_section_display": true,
   "toc_window_display": false
  }
 },
 "nbformat": 4,
 "nbformat_minor": 5
}
